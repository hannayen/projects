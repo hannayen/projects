{
 "cells": [
  {
   "cell_type": "markdown",
   "id": "f99706ce",
   "metadata": {},
   "source": [
    "## INFO 2950 Project Phase III"
   ]
  },
  {
   "cell_type": "markdown",
   "id": "e5cd800a",
   "metadata": {},
   "source": [
    "### Analysis Methods\n",
    "\n",
    "For our project, the two analyses we intend to present in our final report will be linear regression and logistic regression. One of our goals is to identify player features in Major League Baseball (MLB) such as height, weight, tenure, birth country, strikeouts, and batting statistics such as on-base plus slugging (OPS), which may be good indicators of a player’s salary.\n",
    "\n",
    "**Linear regression:** The outcome of our linear regression will show the relationship between player features and salary for a given year. The regression will quantify the relative impacts of each feature on salary, and we will be able to observe the strength of the relationships between each feature and salary. Ideally, when looking at the outcome of our linear regression, we want to find that OPS is one of the most significant features because OPS is the sum of a player’s on-base percentage and slugging percentage. To put it in simpler terms, a large OPS indicates that a player performed well on offense in many different aspects for his team. In theory, a larger OPS should translate to a greater salary because this means that the better offensive players are getting paid more than relatively worse offensive players. Additionally, we hope that features such as height, tenure, and birth country show a weak relationship in regards to salary because in theory, since these features are not relevant to a player’s baseball skillset, they should not affect players’ salary. We are looking to perform multiple linear regressions for a variety of years in order to observe whether or not certain features vary in significance over time. Our analysis will allow us to see if the correlation between salary and the batting statistic OPS has increased over time. Furthermore, we want to see that the correlation between salary and a supposed irrelevant feature such as birth country has decreased over time. Seeing if the birth country has some impact on salary would be intriguing to see and we could also possibly determine if that feature’s significance has decreased over time. Regardless of our results being significant or not, our analysis of the linear regression will still be interesting. Significant results indicate which features better predict a player’s salary. If there are no significant features, then we will know that there are probably many other aspects of baseball that may determine how much a player will get paid. Furthermore, by observing which features are significant for each year we perform a linear regression, we will be able to identify whether or not bias exists in MLB and if the most deserving players are being paid accordingly. Taking our analysis one step further, we can use our linear regression to potentially forecast the trend and future values of players’ salaries for the next season, and we will be able to check if our forecast is accurate because there are other datasets available with more recent baseball salary data (post 2015) that we can use to compare our predictions.\n",
    "\n",
    "**Logistic regression:** We will be using logistic regression to identify which player features determine whether or not players in the MLB are paid appropriately for their batting production. We will be performing two logistic regressions. One will determine whether players are overpaid or not overpaid. The second logistic regression will determine whether players are underpaid or not underpaid. To do this, we will need to calculate a probability threshold for each regression that determines if a player is paid appropriately. Our tentative threshold to determine whether or not a player is overpaid will be the probability that a player’s salary is two standard deviations above the median salary of the season. Similarly, our threshold to determine whether or not a player is underpaid will be the probability that a player’s salary is two standard deviations below the median salary of the season. We will use the same features used in our linear regression (height, weight, tenure, birth country, strikeouts, and the batting statistic on-base plus slugging (OPS), etc.) so that we are able to use the predicted values of the best-fitted line from our linear regression when we convert predicted values into probabilities. Whether or not our results are significant, our analysis of the logistic regression will still be interesting. Significant results will indicate which features are better predictive of whether or not a player is overpaid or underpaid. If there are no significant features, then we will know that there are probably other aspects of baseball that may determine whether or not a player is overpaid or underpaid. Ideally, the logistic regression will help us determine the probability of what type of players are likely to be overpaid or underpaid in MLB. In other words, our logistic regression will potentially identify which features of a player are the most important and which features are not as relevant to salary. For instance, we expect that players with a large OPS have a greater probability to be overpaid."
   ]
  },
  {
   "cell_type": "markdown",
   "id": "e064a0ef",
   "metadata": {},
   "source": [
    "### Questions for Reviewers\n",
    "\n",
    "* Are there any other questions we can potentially answer from the results of our linear and logistic regression that we haven’t mentioned above?\n",
    "* What other types of analyses besides linear and logistic regression could potentially give us interesting results when considering players’ salaries?\n",
    "* Is there anything we should be careful of (i.e. biases in our player data) as we go into more in-depth explorations while performing the pre-registered analysis methods above?\n",
    "* Are there any general limitations that could arise from using linear and logistic regression?\n",
    "* We are also thinking about using forecasting to either predict how much a specific player will make in following seasons or predict the mean salary of all players in MLB in following seasons. Would something like this be feasible? What are potential obstacles we may encounter?\n",
    "* Lastly, we are also looking to analyze the salary difference between left, right, and switch (left and right handed) hitters. Would clustering be the correct method to do so if we don’t know whether a salary difference exists in the first place? We were thinking that we could create a scatterplot that graphs a significant feature we find in our linear regression against salary and then distinguish the 3 types of hitters with different colors; however, we’re not sure how many clusters we should have for k-means. Should the number of clusters we specify the algorithm to create be just trial and error?"
   ]
  }
 ],
 "metadata": {
  "kernelspec": {
   "display_name": "Python 3",
   "language": "python",
   "name": "python3"
  },
  "language_info": {
   "codemirror_mode": {
    "name": "ipython",
    "version": 3
   },
   "file_extension": ".py",
   "mimetype": "text/x-python",
   "name": "python",
   "nbconvert_exporter": "python",
   "pygments_lexer": "ipython3",
   "version": "3.8.8"
  }
 },
 "nbformat": 4,
 "nbformat_minor": 5
}
