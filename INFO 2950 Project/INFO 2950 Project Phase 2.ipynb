{
 "cells": [
  {
   "cell_type": "markdown",
   "id": "9_D6zT9Kbq1F",
   "metadata": {
    "id": "9_D6zT9Kbq1F"
   },
   "source": [
    "# **INFO 2950 Project Phase II**"
   ]
  },
  {
   "cell_type": "markdown",
   "id": "s_434wwyb9tb",
   "metadata": {
    "id": "s_434wwyb9tb"
   },
   "source": [
    "## **Research question(s)**\n",
    "\n",
    "* In the MLB, are a player's batting statistics indicative of their salary? Which statistics are the most relevant?\n",
    "* Has the importance of having good batting statistics increased over time? Is there a relationship to salary?\n",
    "* Can we predict how much a player will make the following season based on their previous batting history?\n",
    "* Can we determine which current players are the most overpaid for their batting production and which players are the most underpaid?\n",
    "\n",
    "\n"
   ]
  },
  {
   "cell_type": "markdown",
   "id": "rosLu1iBc7kf",
   "metadata": {
    "id": "rosLu1iBc7kf"
   },
   "source": [
    "## **Data collection and cleaning**\n",
    "\n",
    "_Importing our data:_\n",
    "\n",
    "We found two csv files from Kaggle's Baseball Databank that we were interested in using. We stored our raw data files Batting.csv and Salaries.csv into dataframes raw_batting and raw_salaries, respectively. raw_batting consists of MLB players' batting statistics while raw_salaries consists of MLB players' salaries."
   ]
  },
  {
   "cell_type": "code",
   "execution_count": 1,
   "id": "863d38da",
   "metadata": {
    "id": "863d38da"
   },
   "outputs": [],
   "source": [
    "import numpy as np\n",
    "import matplotlib.pyplot as plt\n",
    "import pandas as pd"
   ]
  },
  {
   "cell_type": "code",
   "execution_count": 2,
   "id": "f9fc3e9d",
   "metadata": {
    "id": "f9fc3e9d"
   },
   "outputs": [],
   "source": [
    "raw_batting = pd.read_csv('Batting.csv')\n",
    "raw_salaries = pd.read_csv('Salaries.csv')"
   ]
  },
  {
   "cell_type": "markdown",
   "id": "3d58d347",
   "metadata": {
    "id": "3d58d347"
   },
   "source": [
    "First, we looked at the first few rows of both dataframes. We decided that we wanted to merge these two dataframes into one."
   ]
  },
  {
   "cell_type": "code",
   "execution_count": 3,
   "id": "91f1c887",
   "metadata": {
    "colab": {
     "base_uri": "https://localhost:8080/",
     "height": 204
    },
    "id": "91f1c887",
    "outputId": "00a43c31-5276-4680-df6d-58df0b8b466b"
   },
   "outputs": [
    {
     "data": {
      "text/html": [
       "<div>\n",
       "<style scoped>\n",
       "    .dataframe tbody tr th:only-of-type {\n",
       "        vertical-align: middle;\n",
       "    }\n",
       "\n",
       "    .dataframe tbody tr th {\n",
       "        vertical-align: top;\n",
       "    }\n",
       "\n",
       "    .dataframe thead th {\n",
       "        text-align: right;\n",
       "    }\n",
       "</style>\n",
       "<table border=\"1\" class=\"dataframe\">\n",
       "  <thead>\n",
       "    <tr style=\"text-align: right;\">\n",
       "      <th></th>\n",
       "      <th>playerID</th>\n",
       "      <th>yearID</th>\n",
       "      <th>stint</th>\n",
       "      <th>teamID</th>\n",
       "      <th>lgID</th>\n",
       "      <th>G</th>\n",
       "      <th>AB</th>\n",
       "      <th>R</th>\n",
       "      <th>H</th>\n",
       "      <th>2B</th>\n",
       "      <th>...</th>\n",
       "      <th>RBI</th>\n",
       "      <th>SB</th>\n",
       "      <th>CS</th>\n",
       "      <th>BB</th>\n",
       "      <th>SO</th>\n",
       "      <th>IBB</th>\n",
       "      <th>HBP</th>\n",
       "      <th>SH</th>\n",
       "      <th>SF</th>\n",
       "      <th>GIDP</th>\n",
       "    </tr>\n",
       "  </thead>\n",
       "  <tbody>\n",
       "    <tr>\n",
       "      <th>0</th>\n",
       "      <td>abercda01</td>\n",
       "      <td>1871</td>\n",
       "      <td>1</td>\n",
       "      <td>TRO</td>\n",
       "      <td>NaN</td>\n",
       "      <td>1</td>\n",
       "      <td>4.0</td>\n",
       "      <td>0.0</td>\n",
       "      <td>0.0</td>\n",
       "      <td>0.0</td>\n",
       "      <td>...</td>\n",
       "      <td>0.0</td>\n",
       "      <td>0.0</td>\n",
       "      <td>0.0</td>\n",
       "      <td>0.0</td>\n",
       "      <td>0.0</td>\n",
       "      <td>NaN</td>\n",
       "      <td>NaN</td>\n",
       "      <td>NaN</td>\n",
       "      <td>NaN</td>\n",
       "      <td>NaN</td>\n",
       "    </tr>\n",
       "    <tr>\n",
       "      <th>1</th>\n",
       "      <td>addybo01</td>\n",
       "      <td>1871</td>\n",
       "      <td>1</td>\n",
       "      <td>RC1</td>\n",
       "      <td>NaN</td>\n",
       "      <td>25</td>\n",
       "      <td>118.0</td>\n",
       "      <td>30.0</td>\n",
       "      <td>32.0</td>\n",
       "      <td>6.0</td>\n",
       "      <td>...</td>\n",
       "      <td>13.0</td>\n",
       "      <td>8.0</td>\n",
       "      <td>1.0</td>\n",
       "      <td>4.0</td>\n",
       "      <td>0.0</td>\n",
       "      <td>NaN</td>\n",
       "      <td>NaN</td>\n",
       "      <td>NaN</td>\n",
       "      <td>NaN</td>\n",
       "      <td>NaN</td>\n",
       "    </tr>\n",
       "    <tr>\n",
       "      <th>2</th>\n",
       "      <td>allisar01</td>\n",
       "      <td>1871</td>\n",
       "      <td>1</td>\n",
       "      <td>CL1</td>\n",
       "      <td>NaN</td>\n",
       "      <td>29</td>\n",
       "      <td>137.0</td>\n",
       "      <td>28.0</td>\n",
       "      <td>40.0</td>\n",
       "      <td>4.0</td>\n",
       "      <td>...</td>\n",
       "      <td>19.0</td>\n",
       "      <td>3.0</td>\n",
       "      <td>1.0</td>\n",
       "      <td>2.0</td>\n",
       "      <td>5.0</td>\n",
       "      <td>NaN</td>\n",
       "      <td>NaN</td>\n",
       "      <td>NaN</td>\n",
       "      <td>NaN</td>\n",
       "      <td>NaN</td>\n",
       "    </tr>\n",
       "    <tr>\n",
       "      <th>3</th>\n",
       "      <td>allisdo01</td>\n",
       "      <td>1871</td>\n",
       "      <td>1</td>\n",
       "      <td>WS3</td>\n",
       "      <td>NaN</td>\n",
       "      <td>27</td>\n",
       "      <td>133.0</td>\n",
       "      <td>28.0</td>\n",
       "      <td>44.0</td>\n",
       "      <td>10.0</td>\n",
       "      <td>...</td>\n",
       "      <td>27.0</td>\n",
       "      <td>1.0</td>\n",
       "      <td>1.0</td>\n",
       "      <td>0.0</td>\n",
       "      <td>2.0</td>\n",
       "      <td>NaN</td>\n",
       "      <td>NaN</td>\n",
       "      <td>NaN</td>\n",
       "      <td>NaN</td>\n",
       "      <td>NaN</td>\n",
       "    </tr>\n",
       "    <tr>\n",
       "      <th>4</th>\n",
       "      <td>ansonca01</td>\n",
       "      <td>1871</td>\n",
       "      <td>1</td>\n",
       "      <td>RC1</td>\n",
       "      <td>NaN</td>\n",
       "      <td>25</td>\n",
       "      <td>120.0</td>\n",
       "      <td>29.0</td>\n",
       "      <td>39.0</td>\n",
       "      <td>11.0</td>\n",
       "      <td>...</td>\n",
       "      <td>16.0</td>\n",
       "      <td>6.0</td>\n",
       "      <td>2.0</td>\n",
       "      <td>2.0</td>\n",
       "      <td>1.0</td>\n",
       "      <td>NaN</td>\n",
       "      <td>NaN</td>\n",
       "      <td>NaN</td>\n",
       "      <td>NaN</td>\n",
       "      <td>NaN</td>\n",
       "    </tr>\n",
       "  </tbody>\n",
       "</table>\n",
       "<p>5 rows × 22 columns</p>\n",
       "</div>"
      ],
      "text/plain": [
       "    playerID  yearID  stint teamID lgID   G     AB     R     H    2B  ...  \\\n",
       "0  abercda01    1871      1    TRO  NaN   1    4.0   0.0   0.0   0.0  ...   \n",
       "1   addybo01    1871      1    RC1  NaN  25  118.0  30.0  32.0   6.0  ...   \n",
       "2  allisar01    1871      1    CL1  NaN  29  137.0  28.0  40.0   4.0  ...   \n",
       "3  allisdo01    1871      1    WS3  NaN  27  133.0  28.0  44.0  10.0  ...   \n",
       "4  ansonca01    1871      1    RC1  NaN  25  120.0  29.0  39.0  11.0  ...   \n",
       "\n",
       "    RBI   SB   CS   BB   SO  IBB  HBP  SH  SF  GIDP  \n",
       "0   0.0  0.0  0.0  0.0  0.0  NaN  NaN NaN NaN   NaN  \n",
       "1  13.0  8.0  1.0  4.0  0.0  NaN  NaN NaN NaN   NaN  \n",
       "2  19.0  3.0  1.0  2.0  5.0  NaN  NaN NaN NaN   NaN  \n",
       "3  27.0  1.0  1.0  0.0  2.0  NaN  NaN NaN NaN   NaN  \n",
       "4  16.0  6.0  2.0  2.0  1.0  NaN  NaN NaN NaN   NaN  \n",
       "\n",
       "[5 rows x 22 columns]"
      ]
     },
     "execution_count": 3,
     "metadata": {},
     "output_type": "execute_result"
    }
   ],
   "source": [
    "raw_batting.head()"
   ]
  },
  {
   "cell_type": "code",
   "execution_count": 4,
   "id": "7b8822b6",
   "metadata": {
    "colab": {
     "base_uri": "https://localhost:8080/",
     "height": 204
    },
    "id": "7b8822b6",
    "outputId": "4eeb1e97-5cdd-425b-e38d-d42764a8a32b"
   },
   "outputs": [
    {
     "data": {
      "text/html": [
       "<div>\n",
       "<style scoped>\n",
       "    .dataframe tbody tr th:only-of-type {\n",
       "        vertical-align: middle;\n",
       "    }\n",
       "\n",
       "    .dataframe tbody tr th {\n",
       "        vertical-align: top;\n",
       "    }\n",
       "\n",
       "    .dataframe thead th {\n",
       "        text-align: right;\n",
       "    }\n",
       "</style>\n",
       "<table border=\"1\" class=\"dataframe\">\n",
       "  <thead>\n",
       "    <tr style=\"text-align: right;\">\n",
       "      <th></th>\n",
       "      <th>yearID</th>\n",
       "      <th>teamID</th>\n",
       "      <th>lgID</th>\n",
       "      <th>playerID</th>\n",
       "      <th>salary</th>\n",
       "    </tr>\n",
       "  </thead>\n",
       "  <tbody>\n",
       "    <tr>\n",
       "      <th>0</th>\n",
       "      <td>1985</td>\n",
       "      <td>ATL</td>\n",
       "      <td>NL</td>\n",
       "      <td>barkele01</td>\n",
       "      <td>870000</td>\n",
       "    </tr>\n",
       "    <tr>\n",
       "      <th>1</th>\n",
       "      <td>1985</td>\n",
       "      <td>ATL</td>\n",
       "      <td>NL</td>\n",
       "      <td>bedrost01</td>\n",
       "      <td>550000</td>\n",
       "    </tr>\n",
       "    <tr>\n",
       "      <th>2</th>\n",
       "      <td>1985</td>\n",
       "      <td>ATL</td>\n",
       "      <td>NL</td>\n",
       "      <td>benedbr01</td>\n",
       "      <td>545000</td>\n",
       "    </tr>\n",
       "    <tr>\n",
       "      <th>3</th>\n",
       "      <td>1985</td>\n",
       "      <td>ATL</td>\n",
       "      <td>NL</td>\n",
       "      <td>campri01</td>\n",
       "      <td>633333</td>\n",
       "    </tr>\n",
       "    <tr>\n",
       "      <th>4</th>\n",
       "      <td>1985</td>\n",
       "      <td>ATL</td>\n",
       "      <td>NL</td>\n",
       "      <td>ceronri01</td>\n",
       "      <td>625000</td>\n",
       "    </tr>\n",
       "  </tbody>\n",
       "</table>\n",
       "</div>"
      ],
      "text/plain": [
       "   yearID teamID lgID   playerID  salary\n",
       "0    1985    ATL   NL  barkele01  870000\n",
       "1    1985    ATL   NL  bedrost01  550000\n",
       "2    1985    ATL   NL  benedbr01  545000\n",
       "3    1985    ATL   NL   campri01  633333\n",
       "4    1985    ATL   NL  ceronri01  625000"
      ]
     },
     "execution_count": 4,
     "metadata": {},
     "output_type": "execute_result"
    }
   ],
   "source": [
    "raw_salaries.head()"
   ]
  },
  {
   "cell_type": "markdown",
   "id": "eNzBVey_ZR7q",
   "metadata": {
    "id": "eNzBVey_ZR7q"
   },
   "source": [
    "_Cleaning our raw_batting dataframe:_\n",
    "\n",
    "We started by dropping some of the statistics from the dataframe. Specifically, we got rid of the columns stint, lgID, SB, CS, IBB, SH, and GIDP. We kept the ones that we are interested in and relevant to our questions. For instance, SB stands for 'stolen bases' and this is not a batting statistic so we dropped this column. We drop column IBB 'intentional walks' because the column BB 'walks' already accounts for the IBB statistic."
   ]
  },
  {
   "cell_type": "code",
   "execution_count": 5,
   "id": "33eb78f6",
   "metadata": {
    "colab": {
     "base_uri": "https://localhost:8080/",
     "height": 204
    },
    "id": "33eb78f6",
    "outputId": "f54c5852-1e7c-409a-abe0-aec613bfdf7e",
    "scrolled": true
   },
   "outputs": [
    {
     "data": {
      "text/html": [
       "<div>\n",
       "<style scoped>\n",
       "    .dataframe tbody tr th:only-of-type {\n",
       "        vertical-align: middle;\n",
       "    }\n",
       "\n",
       "    .dataframe tbody tr th {\n",
       "        vertical-align: top;\n",
       "    }\n",
       "\n",
       "    .dataframe thead th {\n",
       "        text-align: right;\n",
       "    }\n",
       "</style>\n",
       "<table border=\"1\" class=\"dataframe\">\n",
       "  <thead>\n",
       "    <tr style=\"text-align: right;\">\n",
       "      <th></th>\n",
       "      <th>playerID</th>\n",
       "      <th>yearID</th>\n",
       "      <th>teamID</th>\n",
       "      <th>G</th>\n",
       "      <th>AB</th>\n",
       "      <th>R</th>\n",
       "      <th>H</th>\n",
       "      <th>2B</th>\n",
       "      <th>3B</th>\n",
       "      <th>HR</th>\n",
       "      <th>RBI</th>\n",
       "      <th>BB</th>\n",
       "      <th>SO</th>\n",
       "      <th>HBP</th>\n",
       "      <th>SF</th>\n",
       "    </tr>\n",
       "  </thead>\n",
       "  <tbody>\n",
       "    <tr>\n",
       "      <th>0</th>\n",
       "      <td>abercda01</td>\n",
       "      <td>1871</td>\n",
       "      <td>TRO</td>\n",
       "      <td>1</td>\n",
       "      <td>4.0</td>\n",
       "      <td>0.0</td>\n",
       "      <td>0.0</td>\n",
       "      <td>0.0</td>\n",
       "      <td>0.0</td>\n",
       "      <td>0.0</td>\n",
       "      <td>0.0</td>\n",
       "      <td>0.0</td>\n",
       "      <td>0.0</td>\n",
       "      <td>NaN</td>\n",
       "      <td>NaN</td>\n",
       "    </tr>\n",
       "    <tr>\n",
       "      <th>1</th>\n",
       "      <td>addybo01</td>\n",
       "      <td>1871</td>\n",
       "      <td>RC1</td>\n",
       "      <td>25</td>\n",
       "      <td>118.0</td>\n",
       "      <td>30.0</td>\n",
       "      <td>32.0</td>\n",
       "      <td>6.0</td>\n",
       "      <td>0.0</td>\n",
       "      <td>0.0</td>\n",
       "      <td>13.0</td>\n",
       "      <td>4.0</td>\n",
       "      <td>0.0</td>\n",
       "      <td>NaN</td>\n",
       "      <td>NaN</td>\n",
       "    </tr>\n",
       "    <tr>\n",
       "      <th>2</th>\n",
       "      <td>allisar01</td>\n",
       "      <td>1871</td>\n",
       "      <td>CL1</td>\n",
       "      <td>29</td>\n",
       "      <td>137.0</td>\n",
       "      <td>28.0</td>\n",
       "      <td>40.0</td>\n",
       "      <td>4.0</td>\n",
       "      <td>5.0</td>\n",
       "      <td>0.0</td>\n",
       "      <td>19.0</td>\n",
       "      <td>2.0</td>\n",
       "      <td>5.0</td>\n",
       "      <td>NaN</td>\n",
       "      <td>NaN</td>\n",
       "    </tr>\n",
       "    <tr>\n",
       "      <th>3</th>\n",
       "      <td>allisdo01</td>\n",
       "      <td>1871</td>\n",
       "      <td>WS3</td>\n",
       "      <td>27</td>\n",
       "      <td>133.0</td>\n",
       "      <td>28.0</td>\n",
       "      <td>44.0</td>\n",
       "      <td>10.0</td>\n",
       "      <td>2.0</td>\n",
       "      <td>2.0</td>\n",
       "      <td>27.0</td>\n",
       "      <td>0.0</td>\n",
       "      <td>2.0</td>\n",
       "      <td>NaN</td>\n",
       "      <td>NaN</td>\n",
       "    </tr>\n",
       "    <tr>\n",
       "      <th>4</th>\n",
       "      <td>ansonca01</td>\n",
       "      <td>1871</td>\n",
       "      <td>RC1</td>\n",
       "      <td>25</td>\n",
       "      <td>120.0</td>\n",
       "      <td>29.0</td>\n",
       "      <td>39.0</td>\n",
       "      <td>11.0</td>\n",
       "      <td>3.0</td>\n",
       "      <td>0.0</td>\n",
       "      <td>16.0</td>\n",
       "      <td>2.0</td>\n",
       "      <td>1.0</td>\n",
       "      <td>NaN</td>\n",
       "      <td>NaN</td>\n",
       "    </tr>\n",
       "  </tbody>\n",
       "</table>\n",
       "</div>"
      ],
      "text/plain": [
       "    playerID  yearID teamID   G     AB     R     H    2B   3B   HR   RBI   BB  \\\n",
       "0  abercda01    1871    TRO   1    4.0   0.0   0.0   0.0  0.0  0.0   0.0  0.0   \n",
       "1   addybo01    1871    RC1  25  118.0  30.0  32.0   6.0  0.0  0.0  13.0  4.0   \n",
       "2  allisar01    1871    CL1  29  137.0  28.0  40.0   4.0  5.0  0.0  19.0  2.0   \n",
       "3  allisdo01    1871    WS3  27  133.0  28.0  44.0  10.0  2.0  2.0  27.0  0.0   \n",
       "4  ansonca01    1871    RC1  25  120.0  29.0  39.0  11.0  3.0  0.0  16.0  2.0   \n",
       "\n",
       "    SO  HBP  SF  \n",
       "0  0.0  NaN NaN  \n",
       "1  0.0  NaN NaN  \n",
       "2  5.0  NaN NaN  \n",
       "3  2.0  NaN NaN  \n",
       "4  1.0  NaN NaN  "
      ]
     },
     "execution_count": 5,
     "metadata": {},
     "output_type": "execute_result"
    }
   ],
   "source": [
    "batting = raw_batting.drop(columns=['stint','lgID','SB','CS','IBB','SH','GIDP'])\n",
    "batting.head()"
   ]
  },
  {
   "cell_type": "markdown",
   "id": "Jo92mBrWdp1G",
   "metadata": {
    "id": "Jo92mBrWdp1G"
   },
   "source": [
    "Next, we discarded all the batting data prior to 1985 because the salaries data is only available starting then."
   ]
  },
  {
   "cell_type": "code",
   "execution_count": 6,
   "id": "a33a0330",
   "metadata": {
    "colab": {
     "base_uri": "https://localhost:8080/",
     "height": 204
    },
    "id": "a33a0330",
    "outputId": "3a2dd66f-aedf-41d4-c6e8-7484467e5f76"
   },
   "outputs": [
    {
     "data": {
      "text/html": [
       "<div>\n",
       "<style scoped>\n",
       "    .dataframe tbody tr th:only-of-type {\n",
       "        vertical-align: middle;\n",
       "    }\n",
       "\n",
       "    .dataframe tbody tr th {\n",
       "        vertical-align: top;\n",
       "    }\n",
       "\n",
       "    .dataframe thead th {\n",
       "        text-align: right;\n",
       "    }\n",
       "</style>\n",
       "<table border=\"1\" class=\"dataframe\">\n",
       "  <thead>\n",
       "    <tr style=\"text-align: right;\">\n",
       "      <th></th>\n",
       "      <th>playerID</th>\n",
       "      <th>yearID</th>\n",
       "      <th>teamID</th>\n",
       "      <th>G</th>\n",
       "      <th>AB</th>\n",
       "      <th>R</th>\n",
       "      <th>H</th>\n",
       "      <th>2B</th>\n",
       "      <th>3B</th>\n",
       "      <th>HR</th>\n",
       "      <th>RBI</th>\n",
       "      <th>BB</th>\n",
       "      <th>SO</th>\n",
       "      <th>HBP</th>\n",
       "      <th>SF</th>\n",
       "    </tr>\n",
       "  </thead>\n",
       "  <tbody>\n",
       "    <tr>\n",
       "      <th>62237</th>\n",
       "      <td>aasedo01</td>\n",
       "      <td>1985</td>\n",
       "      <td>BAL</td>\n",
       "      <td>54</td>\n",
       "      <td>NaN</td>\n",
       "      <td>NaN</td>\n",
       "      <td>NaN</td>\n",
       "      <td>NaN</td>\n",
       "      <td>NaN</td>\n",
       "      <td>NaN</td>\n",
       "      <td>NaN</td>\n",
       "      <td>NaN</td>\n",
       "      <td>NaN</td>\n",
       "      <td>NaN</td>\n",
       "      <td>NaN</td>\n",
       "    </tr>\n",
       "    <tr>\n",
       "      <th>62238</th>\n",
       "      <td>abregjo01</td>\n",
       "      <td>1985</td>\n",
       "      <td>CHN</td>\n",
       "      <td>6</td>\n",
       "      <td>9.0</td>\n",
       "      <td>0.0</td>\n",
       "      <td>0.0</td>\n",
       "      <td>0.0</td>\n",
       "      <td>0.0</td>\n",
       "      <td>0.0</td>\n",
       "      <td>1.0</td>\n",
       "      <td>0.0</td>\n",
       "      <td>2.0</td>\n",
       "      <td>0.0</td>\n",
       "      <td>0.0</td>\n",
       "    </tr>\n",
       "    <tr>\n",
       "      <th>62239</th>\n",
       "      <td>ackerji01</td>\n",
       "      <td>1985</td>\n",
       "      <td>TOR</td>\n",
       "      <td>61</td>\n",
       "      <td>NaN</td>\n",
       "      <td>NaN</td>\n",
       "      <td>NaN</td>\n",
       "      <td>NaN</td>\n",
       "      <td>NaN</td>\n",
       "      <td>NaN</td>\n",
       "      <td>NaN</td>\n",
       "      <td>NaN</td>\n",
       "      <td>NaN</td>\n",
       "      <td>NaN</td>\n",
       "      <td>NaN</td>\n",
       "    </tr>\n",
       "    <tr>\n",
       "      <th>62240</th>\n",
       "      <td>adamsri02</td>\n",
       "      <td>1985</td>\n",
       "      <td>SFN</td>\n",
       "      <td>54</td>\n",
       "      <td>121.0</td>\n",
       "      <td>12.0</td>\n",
       "      <td>23.0</td>\n",
       "      <td>3.0</td>\n",
       "      <td>1.0</td>\n",
       "      <td>2.0</td>\n",
       "      <td>10.0</td>\n",
       "      <td>5.0</td>\n",
       "      <td>23.0</td>\n",
       "      <td>1.0</td>\n",
       "      <td>0.0</td>\n",
       "    </tr>\n",
       "    <tr>\n",
       "      <th>62241</th>\n",
       "      <td>agostju01</td>\n",
       "      <td>1985</td>\n",
       "      <td>CHA</td>\n",
       "      <td>54</td>\n",
       "      <td>0.0</td>\n",
       "      <td>0.0</td>\n",
       "      <td>0.0</td>\n",
       "      <td>0.0</td>\n",
       "      <td>0.0</td>\n",
       "      <td>0.0</td>\n",
       "      <td>0.0</td>\n",
       "      <td>0.0</td>\n",
       "      <td>0.0</td>\n",
       "      <td>0.0</td>\n",
       "      <td>0.0</td>\n",
       "    </tr>\n",
       "  </tbody>\n",
       "</table>\n",
       "</div>"
      ],
      "text/plain": [
       "        playerID  yearID teamID   G     AB     R     H   2B   3B   HR   RBI  \\\n",
       "62237   aasedo01    1985    BAL  54    NaN   NaN   NaN  NaN  NaN  NaN   NaN   \n",
       "62238  abregjo01    1985    CHN   6    9.0   0.0   0.0  0.0  0.0  0.0   1.0   \n",
       "62239  ackerji01    1985    TOR  61    NaN   NaN   NaN  NaN  NaN  NaN   NaN   \n",
       "62240  adamsri02    1985    SFN  54  121.0  12.0  23.0  3.0  1.0  2.0  10.0   \n",
       "62241  agostju01    1985    CHA  54    0.0   0.0   0.0  0.0  0.0  0.0   0.0   \n",
       "\n",
       "        BB    SO  HBP   SF  \n",
       "62237  NaN   NaN  NaN  NaN  \n",
       "62238  0.0   2.0  0.0  0.0  \n",
       "62239  NaN   NaN  NaN  NaN  \n",
       "62240  5.0  23.0  1.0  0.0  \n",
       "62241  0.0   0.0  0.0  0.0  "
      ]
     },
     "execution_count": 6,
     "metadata": {},
     "output_type": "execute_result"
    }
   ],
   "source": [
    "batting = batting[batting['yearID'] >= 1985]\n",
    "batting.head()"
   ]
  },
  {
   "cell_type": "markdown",
   "id": "__Fk6A7DZ5K5",
   "metadata": {
    "id": "__Fk6A7DZ5K5"
   },
   "source": [
    "Next, we filtered out the null values. We wanted to filter out nulls because otherwise we would get errors when performing our exploratory data analysis."
   ]
  },
  {
   "cell_type": "code",
   "execution_count": 7,
   "id": "57fe036f",
   "metadata": {
    "colab": {
     "base_uri": "https://localhost:8080/",
     "height": 204
    },
    "id": "57fe036f",
    "outputId": "fe41845a-7d05-45c4-d259-b52e756727bc"
   },
   "outputs": [
    {
     "data": {
      "text/html": [
       "<div>\n",
       "<style scoped>\n",
       "    .dataframe tbody tr th:only-of-type {\n",
       "        vertical-align: middle;\n",
       "    }\n",
       "\n",
       "    .dataframe tbody tr th {\n",
       "        vertical-align: top;\n",
       "    }\n",
       "\n",
       "    .dataframe thead th {\n",
       "        text-align: right;\n",
       "    }\n",
       "</style>\n",
       "<table border=\"1\" class=\"dataframe\">\n",
       "  <thead>\n",
       "    <tr style=\"text-align: right;\">\n",
       "      <th></th>\n",
       "      <th>playerID</th>\n",
       "      <th>yearID</th>\n",
       "      <th>teamID</th>\n",
       "      <th>G</th>\n",
       "      <th>AB</th>\n",
       "      <th>R</th>\n",
       "      <th>H</th>\n",
       "      <th>2B</th>\n",
       "      <th>3B</th>\n",
       "      <th>HR</th>\n",
       "      <th>RBI</th>\n",
       "      <th>BB</th>\n",
       "      <th>SO</th>\n",
       "      <th>HBP</th>\n",
       "      <th>SF</th>\n",
       "    </tr>\n",
       "  </thead>\n",
       "  <tbody>\n",
       "    <tr>\n",
       "      <th>62238</th>\n",
       "      <td>abregjo01</td>\n",
       "      <td>1985</td>\n",
       "      <td>CHN</td>\n",
       "      <td>6</td>\n",
       "      <td>9.0</td>\n",
       "      <td>0.0</td>\n",
       "      <td>0.0</td>\n",
       "      <td>0.0</td>\n",
       "      <td>0.0</td>\n",
       "      <td>0.0</td>\n",
       "      <td>1.0</td>\n",
       "      <td>0.0</td>\n",
       "      <td>2.0</td>\n",
       "      <td>0.0</td>\n",
       "      <td>0.0</td>\n",
       "    </tr>\n",
       "    <tr>\n",
       "      <th>62240</th>\n",
       "      <td>adamsri02</td>\n",
       "      <td>1985</td>\n",
       "      <td>SFN</td>\n",
       "      <td>54</td>\n",
       "      <td>121.0</td>\n",
       "      <td>12.0</td>\n",
       "      <td>23.0</td>\n",
       "      <td>3.0</td>\n",
       "      <td>1.0</td>\n",
       "      <td>2.0</td>\n",
       "      <td>10.0</td>\n",
       "      <td>5.0</td>\n",
       "      <td>23.0</td>\n",
       "      <td>1.0</td>\n",
       "      <td>0.0</td>\n",
       "    </tr>\n",
       "    <tr>\n",
       "      <th>62241</th>\n",
       "      <td>agostju01</td>\n",
       "      <td>1985</td>\n",
       "      <td>CHA</td>\n",
       "      <td>54</td>\n",
       "      <td>0.0</td>\n",
       "      <td>0.0</td>\n",
       "      <td>0.0</td>\n",
       "      <td>0.0</td>\n",
       "      <td>0.0</td>\n",
       "      <td>0.0</td>\n",
       "      <td>0.0</td>\n",
       "      <td>0.0</td>\n",
       "      <td>0.0</td>\n",
       "      <td>0.0</td>\n",
       "      <td>0.0</td>\n",
       "    </tr>\n",
       "    <tr>\n",
       "      <th>62242</th>\n",
       "      <td>aguaylu01</td>\n",
       "      <td>1985</td>\n",
       "      <td>PHI</td>\n",
       "      <td>91</td>\n",
       "      <td>165.0</td>\n",
       "      <td>27.0</td>\n",
       "      <td>46.0</td>\n",
       "      <td>7.0</td>\n",
       "      <td>3.0</td>\n",
       "      <td>6.0</td>\n",
       "      <td>21.0</td>\n",
       "      <td>22.0</td>\n",
       "      <td>26.0</td>\n",
       "      <td>6.0</td>\n",
       "      <td>3.0</td>\n",
       "    </tr>\n",
       "    <tr>\n",
       "      <th>62243</th>\n",
       "      <td>aguilri01</td>\n",
       "      <td>1985</td>\n",
       "      <td>NYN</td>\n",
       "      <td>22</td>\n",
       "      <td>36.0</td>\n",
       "      <td>1.0</td>\n",
       "      <td>10.0</td>\n",
       "      <td>2.0</td>\n",
       "      <td>0.0</td>\n",
       "      <td>0.0</td>\n",
       "      <td>2.0</td>\n",
       "      <td>1.0</td>\n",
       "      <td>5.0</td>\n",
       "      <td>0.0</td>\n",
       "      <td>0.0</td>\n",
       "    </tr>\n",
       "  </tbody>\n",
       "</table>\n",
       "</div>"
      ],
      "text/plain": [
       "        playerID  yearID teamID   G     AB     R     H   2B   3B   HR   RBI  \\\n",
       "62238  abregjo01    1985    CHN   6    9.0   0.0   0.0  0.0  0.0  0.0   1.0   \n",
       "62240  adamsri02    1985    SFN  54  121.0  12.0  23.0  3.0  1.0  2.0  10.0   \n",
       "62241  agostju01    1985    CHA  54    0.0   0.0   0.0  0.0  0.0  0.0   0.0   \n",
       "62242  aguaylu01    1985    PHI  91  165.0  27.0  46.0  7.0  3.0  6.0  21.0   \n",
       "62243  aguilri01    1985    NYN  22   36.0   1.0  10.0  2.0  0.0  0.0   2.0   \n",
       "\n",
       "         BB    SO  HBP   SF  \n",
       "62238   0.0   2.0  0.0  0.0  \n",
       "62240   5.0  23.0  1.0  0.0  \n",
       "62241   0.0   0.0  0.0  0.0  \n",
       "62242  22.0  26.0  6.0  3.0  \n",
       "62243   1.0   5.0  0.0  0.0  "
      ]
     },
     "execution_count": 7,
     "metadata": {},
     "output_type": "execute_result"
    }
   ],
   "source": [
    "batting = batting.dropna()\n",
    "batting.head()"
   ]
  },
  {
   "cell_type": "markdown",
   "id": "oHdHuQvBdyw9",
   "metadata": {
    "id": "oHdHuQvBdyw9"
   },
   "source": [
    "After get rid of null values, we sorted our data by playerID. "
   ]
  },
  {
   "cell_type": "code",
   "execution_count": 8,
   "id": "a0b24ffe",
   "metadata": {
    "colab": {
     "base_uri": "https://localhost:8080/",
     "height": 204
    },
    "id": "a0b24ffe",
    "outputId": "41c02438-331a-4f64-a54c-151c849acc14"
   },
   "outputs": [
    {
     "data": {
      "text/html": [
       "<div>\n",
       "<style scoped>\n",
       "    .dataframe tbody tr th:only-of-type {\n",
       "        vertical-align: middle;\n",
       "    }\n",
       "\n",
       "    .dataframe tbody tr th {\n",
       "        vertical-align: top;\n",
       "    }\n",
       "\n",
       "    .dataframe thead th {\n",
       "        text-align: right;\n",
       "    }\n",
       "</style>\n",
       "<table border=\"1\" class=\"dataframe\">\n",
       "  <thead>\n",
       "    <tr style=\"text-align: right;\">\n",
       "      <th></th>\n",
       "      <th>playerID</th>\n",
       "      <th>yearID</th>\n",
       "      <th>teamID</th>\n",
       "      <th>G</th>\n",
       "      <th>AB</th>\n",
       "      <th>R</th>\n",
       "      <th>H</th>\n",
       "      <th>2B</th>\n",
       "      <th>3B</th>\n",
       "      <th>HR</th>\n",
       "      <th>RBI</th>\n",
       "      <th>BB</th>\n",
       "      <th>SO</th>\n",
       "      <th>HBP</th>\n",
       "      <th>SF</th>\n",
       "    </tr>\n",
       "  </thead>\n",
       "  <tbody>\n",
       "    <tr>\n",
       "      <th>84637</th>\n",
       "      <td>aardsda01</td>\n",
       "      <td>2004</td>\n",
       "      <td>SFN</td>\n",
       "      <td>11</td>\n",
       "      <td>0.0</td>\n",
       "      <td>0.0</td>\n",
       "      <td>0.0</td>\n",
       "      <td>0.0</td>\n",
       "      <td>0.0</td>\n",
       "      <td>0.0</td>\n",
       "      <td>0.0</td>\n",
       "      <td>0.0</td>\n",
       "      <td>0.0</td>\n",
       "      <td>0.0</td>\n",
       "      <td>0.0</td>\n",
       "    </tr>\n",
       "    <tr>\n",
       "      <th>87313</th>\n",
       "      <td>aardsda01</td>\n",
       "      <td>2006</td>\n",
       "      <td>CHN</td>\n",
       "      <td>45</td>\n",
       "      <td>2.0</td>\n",
       "      <td>0.0</td>\n",
       "      <td>0.0</td>\n",
       "      <td>0.0</td>\n",
       "      <td>0.0</td>\n",
       "      <td>0.0</td>\n",
       "      <td>0.0</td>\n",
       "      <td>0.0</td>\n",
       "      <td>0.0</td>\n",
       "      <td>0.0</td>\n",
       "      <td>0.0</td>\n",
       "    </tr>\n",
       "    <tr>\n",
       "      <th>88691</th>\n",
       "      <td>aardsda01</td>\n",
       "      <td>2007</td>\n",
       "      <td>CHA</td>\n",
       "      <td>25</td>\n",
       "      <td>0.0</td>\n",
       "      <td>0.0</td>\n",
       "      <td>0.0</td>\n",
       "      <td>0.0</td>\n",
       "      <td>0.0</td>\n",
       "      <td>0.0</td>\n",
       "      <td>0.0</td>\n",
       "      <td>0.0</td>\n",
       "      <td>0.0</td>\n",
       "      <td>0.0</td>\n",
       "      <td>0.0</td>\n",
       "    </tr>\n",
       "    <tr>\n",
       "      <th>90076</th>\n",
       "      <td>aardsda01</td>\n",
       "      <td>2008</td>\n",
       "      <td>BOS</td>\n",
       "      <td>47</td>\n",
       "      <td>1.0</td>\n",
       "      <td>0.0</td>\n",
       "      <td>0.0</td>\n",
       "      <td>0.0</td>\n",
       "      <td>0.0</td>\n",
       "      <td>0.0</td>\n",
       "      <td>0.0</td>\n",
       "      <td>0.0</td>\n",
       "      <td>1.0</td>\n",
       "      <td>0.0</td>\n",
       "      <td>0.0</td>\n",
       "    </tr>\n",
       "    <tr>\n",
       "      <th>91461</th>\n",
       "      <td>aardsda01</td>\n",
       "      <td>2009</td>\n",
       "      <td>SEA</td>\n",
       "      <td>73</td>\n",
       "      <td>0.0</td>\n",
       "      <td>0.0</td>\n",
       "      <td>0.0</td>\n",
       "      <td>0.0</td>\n",
       "      <td>0.0</td>\n",
       "      <td>0.0</td>\n",
       "      <td>0.0</td>\n",
       "      <td>0.0</td>\n",
       "      <td>0.0</td>\n",
       "      <td>0.0</td>\n",
       "      <td>0.0</td>\n",
       "    </tr>\n",
       "  </tbody>\n",
       "</table>\n",
       "</div>"
      ],
      "text/plain": [
       "        playerID  yearID teamID   G   AB    R    H   2B   3B   HR  RBI   BB  \\\n",
       "84637  aardsda01    2004    SFN  11  0.0  0.0  0.0  0.0  0.0  0.0  0.0  0.0   \n",
       "87313  aardsda01    2006    CHN  45  2.0  0.0  0.0  0.0  0.0  0.0  0.0  0.0   \n",
       "88691  aardsda01    2007    CHA  25  0.0  0.0  0.0  0.0  0.0  0.0  0.0  0.0   \n",
       "90076  aardsda01    2008    BOS  47  1.0  0.0  0.0  0.0  0.0  0.0  0.0  0.0   \n",
       "91461  aardsda01    2009    SEA  73  0.0  0.0  0.0  0.0  0.0  0.0  0.0  0.0   \n",
       "\n",
       "        SO  HBP   SF  \n",
       "84637  0.0  0.0  0.0  \n",
       "87313  0.0  0.0  0.0  \n",
       "88691  0.0  0.0  0.0  \n",
       "90076  1.0  0.0  0.0  \n",
       "91461  0.0  0.0  0.0  "
      ]
     },
     "execution_count": 8,
     "metadata": {},
     "output_type": "execute_result"
    }
   ],
   "source": [
    "batting = batting.sort_values(by=['playerID','yearID'])\n",
    "batting.head()"
   ]
  },
  {
   "cell_type": "markdown",
   "id": "xKX_S4lgkEwM",
   "metadata": {
    "id": "xKX_S4lgkEwM"
   },
   "source": [
    "While we were reviewing this data we noticed something unsual about our dataframe. Looking at the first row of the previous dataframe, we can see in 2004, player aardsda01 played in 11 games but has 0s across all his batting statistics. Looking at the second row, we see something similar. In 2006, the same player played in 45 games and had 2 at bats, but the rest of his batting statistics are 0s. It didn't make sense for a player to have a lot of games recorded but no at bats but we realized: some of these players in our batting dataframe are pitchers. Since pitchers' salaries are based off their pitching performance, and not their hitting ability, we decided to get rid of all the players who are pitchers."
   ]
  },
  {
   "cell_type": "code",
   "execution_count": 9,
   "id": "c4b88aab",
   "metadata": {
    "id": "c4b88aab"
   },
   "outputs": [],
   "source": [
    "raw_pitching = pd.read_csv('Pitching.csv')\n",
    "pitching = raw_pitching[raw_pitching['yearID'] >= 1985]\n",
    "pitchers = pitching['playerID'].unique()\n",
    "\n",
    "for pitcher in pitchers:\n",
    "    batting = batting[batting['playerID']!=pitcher]"
   ]
  },
  {
   "cell_type": "markdown",
   "id": "BNMgIE_EJb6p",
   "metadata": {
    "id": "BNMgIE_EJb6p"
   },
   "source": [
    "We also wanted to get rid of rows where the number of games played is less than or equal to 54. This is because 54 games is a third of the season and we only wanted to take into account players who play at least a third or more of the season."
   ]
  },
  {
   "cell_type": "code",
   "execution_count": 10,
   "id": "30f51f97",
   "metadata": {
    "colab": {
     "base_uri": "https://localhost:8080/",
     "height": 204
    },
    "id": "30f51f97",
    "outputId": "2cbe49f1-f418-4f2d-a85e-6023edc43fff",
    "scrolled": false
   },
   "outputs": [
    {
     "data": {
      "text/html": [
       "<div>\n",
       "<style scoped>\n",
       "    .dataframe tbody tr th:only-of-type {\n",
       "        vertical-align: middle;\n",
       "    }\n",
       "\n",
       "    .dataframe tbody tr th {\n",
       "        vertical-align: top;\n",
       "    }\n",
       "\n",
       "    .dataframe thead th {\n",
       "        text-align: right;\n",
       "    }\n",
       "</style>\n",
       "<table border=\"1\" class=\"dataframe\">\n",
       "  <thead>\n",
       "    <tr style=\"text-align: right;\">\n",
       "      <th></th>\n",
       "      <th>playerID</th>\n",
       "      <th>yearID</th>\n",
       "      <th>teamID</th>\n",
       "      <th>G</th>\n",
       "      <th>AB</th>\n",
       "      <th>R</th>\n",
       "      <th>H</th>\n",
       "      <th>2B</th>\n",
       "      <th>3B</th>\n",
       "      <th>HR</th>\n",
       "      <th>RBI</th>\n",
       "      <th>BB</th>\n",
       "      <th>SO</th>\n",
       "      <th>HBP</th>\n",
       "      <th>SF</th>\n",
       "    </tr>\n",
       "  </thead>\n",
       "  <tbody>\n",
       "    <tr>\n",
       "      <th>76627</th>\n",
       "      <td>abbotje01</td>\n",
       "      <td>1998</td>\n",
       "      <td>CHA</td>\n",
       "      <td>89</td>\n",
       "      <td>244.0</td>\n",
       "      <td>33.0</td>\n",
       "      <td>68.0</td>\n",
       "      <td>14.0</td>\n",
       "      <td>1.0</td>\n",
       "      <td>12.0</td>\n",
       "      <td>41.0</td>\n",
       "      <td>9.0</td>\n",
       "      <td>28.0</td>\n",
       "      <td>0.0</td>\n",
       "      <td>5.0</td>\n",
       "    </tr>\n",
       "    <tr>\n",
       "      <th>79248</th>\n",
       "      <td>abbotje01</td>\n",
       "      <td>2000</td>\n",
       "      <td>CHA</td>\n",
       "      <td>80</td>\n",
       "      <td>215.0</td>\n",
       "      <td>31.0</td>\n",
       "      <td>59.0</td>\n",
       "      <td>15.0</td>\n",
       "      <td>1.0</td>\n",
       "      <td>3.0</td>\n",
       "      <td>29.0</td>\n",
       "      <td>21.0</td>\n",
       "      <td>38.0</td>\n",
       "      <td>2.0</td>\n",
       "      <td>1.0</td>\n",
       "    </tr>\n",
       "    <tr>\n",
       "      <th>71856</th>\n",
       "      <td>abbotku01</td>\n",
       "      <td>1994</td>\n",
       "      <td>FLO</td>\n",
       "      <td>101</td>\n",
       "      <td>345.0</td>\n",
       "      <td>41.0</td>\n",
       "      <td>86.0</td>\n",
       "      <td>17.0</td>\n",
       "      <td>3.0</td>\n",
       "      <td>9.0</td>\n",
       "      <td>33.0</td>\n",
       "      <td>16.0</td>\n",
       "      <td>98.0</td>\n",
       "      <td>5.0</td>\n",
       "      <td>2.0</td>\n",
       "    </tr>\n",
       "    <tr>\n",
       "      <th>72887</th>\n",
       "      <td>abbotku01</td>\n",
       "      <td>1995</td>\n",
       "      <td>FLO</td>\n",
       "      <td>120</td>\n",
       "      <td>420.0</td>\n",
       "      <td>60.0</td>\n",
       "      <td>107.0</td>\n",
       "      <td>18.0</td>\n",
       "      <td>7.0</td>\n",
       "      <td>17.0</td>\n",
       "      <td>60.0</td>\n",
       "      <td>36.0</td>\n",
       "      <td>110.0</td>\n",
       "      <td>5.0</td>\n",
       "      <td>5.0</td>\n",
       "    </tr>\n",
       "    <tr>\n",
       "      <th>74139</th>\n",
       "      <td>abbotku01</td>\n",
       "      <td>1996</td>\n",
       "      <td>FLO</td>\n",
       "      <td>109</td>\n",
       "      <td>320.0</td>\n",
       "      <td>37.0</td>\n",
       "      <td>81.0</td>\n",
       "      <td>18.0</td>\n",
       "      <td>7.0</td>\n",
       "      <td>8.0</td>\n",
       "      <td>33.0</td>\n",
       "      <td>22.0</td>\n",
       "      <td>99.0</td>\n",
       "      <td>3.0</td>\n",
       "      <td>0.0</td>\n",
       "    </tr>\n",
       "  </tbody>\n",
       "</table>\n",
       "</div>"
      ],
      "text/plain": [
       "        playerID  yearID teamID    G     AB     R      H    2B   3B    HR  \\\n",
       "76627  abbotje01    1998    CHA   89  244.0  33.0   68.0  14.0  1.0  12.0   \n",
       "79248  abbotje01    2000    CHA   80  215.0  31.0   59.0  15.0  1.0   3.0   \n",
       "71856  abbotku01    1994    FLO  101  345.0  41.0   86.0  17.0  3.0   9.0   \n",
       "72887  abbotku01    1995    FLO  120  420.0  60.0  107.0  18.0  7.0  17.0   \n",
       "74139  abbotku01    1996    FLO  109  320.0  37.0   81.0  18.0  7.0   8.0   \n",
       "\n",
       "        RBI    BB     SO  HBP   SF  \n",
       "76627  41.0   9.0   28.0  0.0  5.0  \n",
       "79248  29.0  21.0   38.0  2.0  1.0  \n",
       "71856  33.0  16.0   98.0  5.0  2.0  \n",
       "72887  60.0  36.0  110.0  5.0  5.0  \n",
       "74139  33.0  22.0   99.0  3.0  0.0  "
      ]
     },
     "execution_count": 10,
     "metadata": {},
     "output_type": "execute_result"
    }
   ],
   "source": [
    "batting = batting[batting['G']>54]\n",
    "batting.head()"
   ]
  },
  {
   "cell_type": "markdown",
   "id": "oCsMN4YMJq0I",
   "metadata": {
    "id": "oCsMN4YMJq0I"
   },
   "source": [
    "Here, we found and created a column for 'OPS' – on-base plus slugging statistics. We created this variable because it combines most of the batting statistics in the dataframe and we'll use it as the main 'performance metric' for the players.\n",
    "\n",
    "The equation for OPS is as follows:\n",
    "\n",
    "OPS = ((H+BB+HBP)/(AB+BB+SF+HBP)) + (((1* 1B)+(2* 2B)+(3* 3B)+(4* HR))/AB)"
   ]
  },
  {
   "cell_type": "code",
   "execution_count": 11,
   "id": "0829a340",
   "metadata": {
    "colab": {
     "base_uri": "https://localhost:8080/",
     "height": 204
    },
    "id": "0829a340",
    "outputId": "14374efc-a3fd-4345-9603-944c6f43d779"
   },
   "outputs": [
    {
     "data": {
      "text/html": [
       "<div>\n",
       "<style scoped>\n",
       "    .dataframe tbody tr th:only-of-type {\n",
       "        vertical-align: middle;\n",
       "    }\n",
       "\n",
       "    .dataframe tbody tr th {\n",
       "        vertical-align: top;\n",
       "    }\n",
       "\n",
       "    .dataframe thead th {\n",
       "        text-align: right;\n",
       "    }\n",
       "</style>\n",
       "<table border=\"1\" class=\"dataframe\">\n",
       "  <thead>\n",
       "    <tr style=\"text-align: right;\">\n",
       "      <th></th>\n",
       "      <th>playerID</th>\n",
       "      <th>yearID</th>\n",
       "      <th>teamID</th>\n",
       "      <th>G</th>\n",
       "      <th>AB</th>\n",
       "      <th>R</th>\n",
       "      <th>H</th>\n",
       "      <th>2B</th>\n",
       "      <th>3B</th>\n",
       "      <th>HR</th>\n",
       "      <th>RBI</th>\n",
       "      <th>BB</th>\n",
       "      <th>SO</th>\n",
       "      <th>HBP</th>\n",
       "      <th>SF</th>\n",
       "      <th>OPS</th>\n",
       "    </tr>\n",
       "  </thead>\n",
       "  <tbody>\n",
       "    <tr>\n",
       "      <th>76627</th>\n",
       "      <td>abbotje01</td>\n",
       "      <td>1998</td>\n",
       "      <td>CHA</td>\n",
       "      <td>89</td>\n",
       "      <td>244.0</td>\n",
       "      <td>33.0</td>\n",
       "      <td>68.0</td>\n",
       "      <td>14.0</td>\n",
       "      <td>1.0</td>\n",
       "      <td>12.0</td>\n",
       "      <td>41.0</td>\n",
       "      <td>9.0</td>\n",
       "      <td>28.0</td>\n",
       "      <td>0.0</td>\n",
       "      <td>5.0</td>\n",
       "      <td>0.790253</td>\n",
       "    </tr>\n",
       "    <tr>\n",
       "      <th>79248</th>\n",
       "      <td>abbotje01</td>\n",
       "      <td>2000</td>\n",
       "      <td>CHA</td>\n",
       "      <td>80</td>\n",
       "      <td>215.0</td>\n",
       "      <td>31.0</td>\n",
       "      <td>59.0</td>\n",
       "      <td>15.0</td>\n",
       "      <td>1.0</td>\n",
       "      <td>3.0</td>\n",
       "      <td>29.0</td>\n",
       "      <td>21.0</td>\n",
       "      <td>38.0</td>\n",
       "      <td>2.0</td>\n",
       "      <td>1.0</td>\n",
       "      <td>0.738445</td>\n",
       "    </tr>\n",
       "    <tr>\n",
       "      <th>71856</th>\n",
       "      <td>abbotku01</td>\n",
       "      <td>1994</td>\n",
       "      <td>FLO</td>\n",
       "      <td>101</td>\n",
       "      <td>345.0</td>\n",
       "      <td>41.0</td>\n",
       "      <td>86.0</td>\n",
       "      <td>17.0</td>\n",
       "      <td>3.0</td>\n",
       "      <td>9.0</td>\n",
       "      <td>33.0</td>\n",
       "      <td>16.0</td>\n",
       "      <td>98.0</td>\n",
       "      <td>5.0</td>\n",
       "      <td>2.0</td>\n",
       "      <td>0.684964</td>\n",
       "    </tr>\n",
       "    <tr>\n",
       "      <th>72887</th>\n",
       "      <td>abbotku01</td>\n",
       "      <td>1995</td>\n",
       "      <td>FLO</td>\n",
       "      <td>120</td>\n",
       "      <td>420.0</td>\n",
       "      <td>60.0</td>\n",
       "      <td>107.0</td>\n",
       "      <td>18.0</td>\n",
       "      <td>7.0</td>\n",
       "      <td>17.0</td>\n",
       "      <td>60.0</td>\n",
       "      <td>36.0</td>\n",
       "      <td>110.0</td>\n",
       "      <td>5.0</td>\n",
       "      <td>5.0</td>\n",
       "      <td>0.769978</td>\n",
       "    </tr>\n",
       "    <tr>\n",
       "      <th>74139</th>\n",
       "      <td>abbotku01</td>\n",
       "      <td>1996</td>\n",
       "      <td>FLO</td>\n",
       "      <td>109</td>\n",
       "      <td>320.0</td>\n",
       "      <td>37.0</td>\n",
       "      <td>81.0</td>\n",
       "      <td>18.0</td>\n",
       "      <td>7.0</td>\n",
       "      <td>8.0</td>\n",
       "      <td>33.0</td>\n",
       "      <td>22.0</td>\n",
       "      <td>99.0</td>\n",
       "      <td>3.0</td>\n",
       "      <td>0.0</td>\n",
       "      <td>0.735371</td>\n",
       "    </tr>\n",
       "  </tbody>\n",
       "</table>\n",
       "</div>"
      ],
      "text/plain": [
       "        playerID  yearID teamID    G     AB     R      H    2B   3B    HR  \\\n",
       "76627  abbotje01    1998    CHA   89  244.0  33.0   68.0  14.0  1.0  12.0   \n",
       "79248  abbotje01    2000    CHA   80  215.0  31.0   59.0  15.0  1.0   3.0   \n",
       "71856  abbotku01    1994    FLO  101  345.0  41.0   86.0  17.0  3.0   9.0   \n",
       "72887  abbotku01    1995    FLO  120  420.0  60.0  107.0  18.0  7.0  17.0   \n",
       "74139  abbotku01    1996    FLO  109  320.0  37.0   81.0  18.0  7.0   8.0   \n",
       "\n",
       "        RBI    BB     SO  HBP   SF       OPS  \n",
       "76627  41.0   9.0   28.0  0.0  5.0  0.790253  \n",
       "79248  29.0  21.0   38.0  2.0  1.0  0.738445  \n",
       "71856  33.0  16.0   98.0  5.0  2.0  0.684964  \n",
       "72887  60.0  36.0  110.0  5.0  5.0  0.769978  \n",
       "74139  33.0  22.0   99.0  3.0  0.0  0.735371  "
      ]
     },
     "execution_count": 11,
     "metadata": {},
     "output_type": "execute_result"
    }
   ],
   "source": [
    "batting['OPS'] = ((batting['H']+batting['BB']+batting['HBP'])/(batting['AB']+batting['BB']+batting['SF']+batting['HBP'])) + (((1*(batting['H']-batting['2B']-batting['3B']-batting['HR']))+(2*batting['2B'])+(3*batting['3B'])+(4*batting['HR']))/batting['AB'])\n",
    "batting.head()"
   ]
  },
  {
   "cell_type": "markdown",
   "id": "8203c4ca",
   "metadata": {
    "id": "8203c4ca"
   },
   "source": [
    "Then we started cleaning our raw_salaries dataframe. We started by merging the salaries data to our batting data that we cleaned."
   ]
  },
  {
   "cell_type": "code",
   "execution_count": 12,
   "id": "ef392f4c",
   "metadata": {
    "colab": {
     "base_uri": "https://localhost:8080/",
     "height": 257
    },
    "id": "ef392f4c",
    "outputId": "ba0e85b2-3e38-4dae-a6c6-c4ef14ca8df6"
   },
   "outputs": [
    {
     "name": "stdout",
     "output_type": "stream",
     "text": [
      "The number of rows in batting is 10607\n",
      "The number of rows in salaries is 25575\n",
      "The number of rows in merged dataframe is 10607\n"
     ]
    },
    {
     "data": {
      "text/html": [
       "<div>\n",
       "<style scoped>\n",
       "    .dataframe tbody tr th:only-of-type {\n",
       "        vertical-align: middle;\n",
       "    }\n",
       "\n",
       "    .dataframe tbody tr th {\n",
       "        vertical-align: top;\n",
       "    }\n",
       "\n",
       "    .dataframe thead th {\n",
       "        text-align: right;\n",
       "    }\n",
       "</style>\n",
       "<table border=\"1\" class=\"dataframe\">\n",
       "  <thead>\n",
       "    <tr style=\"text-align: right;\">\n",
       "      <th></th>\n",
       "      <th>playerID</th>\n",
       "      <th>yearID</th>\n",
       "      <th>teamID</th>\n",
       "      <th>G</th>\n",
       "      <th>AB</th>\n",
       "      <th>R</th>\n",
       "      <th>H</th>\n",
       "      <th>2B</th>\n",
       "      <th>3B</th>\n",
       "      <th>HR</th>\n",
       "      <th>RBI</th>\n",
       "      <th>BB</th>\n",
       "      <th>SO</th>\n",
       "      <th>HBP</th>\n",
       "      <th>SF</th>\n",
       "      <th>OPS</th>\n",
       "      <th>index</th>\n",
       "      <th>salary</th>\n",
       "    </tr>\n",
       "  </thead>\n",
       "  <tbody>\n",
       "    <tr>\n",
       "      <th>0</th>\n",
       "      <td>abbotje01</td>\n",
       "      <td>1998</td>\n",
       "      <td>CHA</td>\n",
       "      <td>89</td>\n",
       "      <td>244.0</td>\n",
       "      <td>33.0</td>\n",
       "      <td>68.0</td>\n",
       "      <td>14.0</td>\n",
       "      <td>1.0</td>\n",
       "      <td>12.0</td>\n",
       "      <td>41.0</td>\n",
       "      <td>9.0</td>\n",
       "      <td>28.0</td>\n",
       "      <td>0.0</td>\n",
       "      <td>5.0</td>\n",
       "      <td>0.790253</td>\n",
       "      <td>10424.0</td>\n",
       "      <td>175000.0</td>\n",
       "    </tr>\n",
       "    <tr>\n",
       "      <th>1</th>\n",
       "      <td>abbotje01</td>\n",
       "      <td>2000</td>\n",
       "      <td>CHA</td>\n",
       "      <td>80</td>\n",
       "      <td>215.0</td>\n",
       "      <td>31.0</td>\n",
       "      <td>59.0</td>\n",
       "      <td>15.0</td>\n",
       "      <td>1.0</td>\n",
       "      <td>3.0</td>\n",
       "      <td>29.0</td>\n",
       "      <td>21.0</td>\n",
       "      <td>38.0</td>\n",
       "      <td>2.0</td>\n",
       "      <td>1.0</td>\n",
       "      <td>0.738445</td>\n",
       "      <td>12410.0</td>\n",
       "      <td>255000.0</td>\n",
       "    </tr>\n",
       "    <tr>\n",
       "      <th>2</th>\n",
       "      <td>abbotku01</td>\n",
       "      <td>1994</td>\n",
       "      <td>FLO</td>\n",
       "      <td>101</td>\n",
       "      <td>345.0</td>\n",
       "      <td>41.0</td>\n",
       "      <td>86.0</td>\n",
       "      <td>17.0</td>\n",
       "      <td>3.0</td>\n",
       "      <td>9.0</td>\n",
       "      <td>33.0</td>\n",
       "      <td>16.0</td>\n",
       "      <td>98.0</td>\n",
       "      <td>5.0</td>\n",
       "      <td>2.0</td>\n",
       "      <td>0.684964</td>\n",
       "      <td>6848.0</td>\n",
       "      <td>109000.0</td>\n",
       "    </tr>\n",
       "    <tr>\n",
       "      <th>3</th>\n",
       "      <td>abbotku01</td>\n",
       "      <td>1995</td>\n",
       "      <td>FLO</td>\n",
       "      <td>120</td>\n",
       "      <td>420.0</td>\n",
       "      <td>60.0</td>\n",
       "      <td>107.0</td>\n",
       "      <td>18.0</td>\n",
       "      <td>7.0</td>\n",
       "      <td>17.0</td>\n",
       "      <td>60.0</td>\n",
       "      <td>36.0</td>\n",
       "      <td>110.0</td>\n",
       "      <td>5.0</td>\n",
       "      <td>5.0</td>\n",
       "      <td>0.769978</td>\n",
       "      <td>7758.0</td>\n",
       "      <td>119000.0</td>\n",
       "    </tr>\n",
       "    <tr>\n",
       "      <th>4</th>\n",
       "      <td>abbotku01</td>\n",
       "      <td>1996</td>\n",
       "      <td>FLO</td>\n",
       "      <td>109</td>\n",
       "      <td>320.0</td>\n",
       "      <td>37.0</td>\n",
       "      <td>81.0</td>\n",
       "      <td>18.0</td>\n",
       "      <td>7.0</td>\n",
       "      <td>8.0</td>\n",
       "      <td>33.0</td>\n",
       "      <td>22.0</td>\n",
       "      <td>99.0</td>\n",
       "      <td>3.0</td>\n",
       "      <td>0.0</td>\n",
       "      <td>0.735371</td>\n",
       "      <td>8728.0</td>\n",
       "      <td>250000.0</td>\n",
       "    </tr>\n",
       "  </tbody>\n",
       "</table>\n",
       "</div>"
      ],
      "text/plain": [
       "    playerID  yearID teamID    G     AB     R      H    2B   3B    HR   RBI  \\\n",
       "0  abbotje01    1998    CHA   89  244.0  33.0   68.0  14.0  1.0  12.0  41.0   \n",
       "1  abbotje01    2000    CHA   80  215.0  31.0   59.0  15.0  1.0   3.0  29.0   \n",
       "2  abbotku01    1994    FLO  101  345.0  41.0   86.0  17.0  3.0   9.0  33.0   \n",
       "3  abbotku01    1995    FLO  120  420.0  60.0  107.0  18.0  7.0  17.0  60.0   \n",
       "4  abbotku01    1996    FLO  109  320.0  37.0   81.0  18.0  7.0   8.0  33.0   \n",
       "\n",
       "     BB     SO  HBP   SF       OPS    index    salary  \n",
       "0   9.0   28.0  0.0  5.0  0.790253  10424.0  175000.0  \n",
       "1  21.0   38.0  2.0  1.0  0.738445  12410.0  255000.0  \n",
       "2  16.0   98.0  5.0  2.0  0.684964   6848.0  109000.0  \n",
       "3  36.0  110.0  5.0  5.0  0.769978   7758.0  119000.0  \n",
       "4  22.0   99.0  3.0  0.0  0.735371   8728.0  250000.0  "
      ]
     },
     "execution_count": 12,
     "metadata": {},
     "output_type": "execute_result"
    }
   ],
   "source": [
    "salaries = raw_salaries.drop(columns='lgID').reset_index()\n",
    "print('The number of rows in batting is {}'.format(len(batting)))\n",
    "print('The number of rows in salaries is {}'.format(len(salaries)))\n",
    "\n",
    "batting_salaries = pd.merge(batting, salaries, on=['playerID','yearID','teamID'], how='left')\n",
    "print('The number of rows in merged dataframe is {}'.format(len(batting_salaries)))\n",
    "batting_salaries.head()"
   ]
  },
  {
   "cell_type": "markdown",
   "id": "TEv-gF-Obm3h",
   "metadata": {
    "id": "TEv-gF-Obm3h"
   },
   "source": [
    "Next, we sorted our new combined dataframe by year. This gave us a timeline to work with our salaries. "
   ]
  },
  {
   "cell_type": "code",
   "execution_count": 13,
   "id": "e9714cbe",
   "metadata": {
    "colab": {
     "base_uri": "https://localhost:8080/",
     "height": 204
    },
    "id": "e9714cbe",
    "outputId": "b1ef7b65-1c4f-48c7-8b29-aa71fa50405c"
   },
   "outputs": [
    {
     "data": {
      "text/html": [
       "<div>\n",
       "<style scoped>\n",
       "    .dataframe tbody tr th:only-of-type {\n",
       "        vertical-align: middle;\n",
       "    }\n",
       "\n",
       "    .dataframe tbody tr th {\n",
       "        vertical-align: top;\n",
       "    }\n",
       "\n",
       "    .dataframe thead th {\n",
       "        text-align: right;\n",
       "    }\n",
       "</style>\n",
       "<table border=\"1\" class=\"dataframe\">\n",
       "  <thead>\n",
       "    <tr style=\"text-align: right;\">\n",
       "      <th></th>\n",
       "      <th>playerID</th>\n",
       "      <th>yearID</th>\n",
       "      <th>teamID</th>\n",
       "      <th>G</th>\n",
       "      <th>AB</th>\n",
       "      <th>R</th>\n",
       "      <th>H</th>\n",
       "      <th>2B</th>\n",
       "      <th>3B</th>\n",
       "      <th>HR</th>\n",
       "      <th>RBI</th>\n",
       "      <th>BB</th>\n",
       "      <th>SO</th>\n",
       "      <th>HBP</th>\n",
       "      <th>SF</th>\n",
       "      <th>OPS</th>\n",
       "      <th>index</th>\n",
       "      <th>salary</th>\n",
       "    </tr>\n",
       "  </thead>\n",
       "  <tbody>\n",
       "    <tr>\n",
       "      <th>10606</th>\n",
       "      <td>zuvelpa01</td>\n",
       "      <td>1985</td>\n",
       "      <td>ATL</td>\n",
       "      <td>81</td>\n",
       "      <td>190.0</td>\n",
       "      <td>16.0</td>\n",
       "      <td>48.0</td>\n",
       "      <td>8.0</td>\n",
       "      <td>1.0</td>\n",
       "      <td>0.0</td>\n",
       "      <td>4.0</td>\n",
       "      <td>16.0</td>\n",
       "      <td>14.0</td>\n",
       "      <td>0.0</td>\n",
       "      <td>0.0</td>\n",
       "      <td>0.615943</td>\n",
       "      <td>NaN</td>\n",
       "      <td>NaN</td>\n",
       "    </tr>\n",
       "    <tr>\n",
       "      <th>7022</th>\n",
       "      <td>oberkke01</td>\n",
       "      <td>1985</td>\n",
       "      <td>ATL</td>\n",
       "      <td>134</td>\n",
       "      <td>412.0</td>\n",
       "      <td>30.0</td>\n",
       "      <td>112.0</td>\n",
       "      <td>19.0</td>\n",
       "      <td>4.0</td>\n",
       "      <td>3.0</td>\n",
       "      <td>35.0</td>\n",
       "      <td>51.0</td>\n",
       "      <td>38.0</td>\n",
       "      <td>6.0</td>\n",
       "      <td>2.0</td>\n",
       "      <td>0.718034</td>\n",
       "      <td>16.0</td>\n",
       "      <td>616667.0</td>\n",
       "    </tr>\n",
       "    <tr>\n",
       "      <th>7036</th>\n",
       "      <td>obriepe03</td>\n",
       "      <td>1985</td>\n",
       "      <td>TEX</td>\n",
       "      <td>159</td>\n",
       "      <td>573.0</td>\n",
       "      <td>69.0</td>\n",
       "      <td>153.0</td>\n",
       "      <td>34.0</td>\n",
       "      <td>3.0</td>\n",
       "      <td>22.0</td>\n",
       "      <td>92.0</td>\n",
       "      <td>69.0</td>\n",
       "      <td>53.0</td>\n",
       "      <td>1.0</td>\n",
       "      <td>9.0</td>\n",
       "      <td>0.794032</td>\n",
       "      <td>518.0</td>\n",
       "      <td>165000.0</td>\n",
       "    </tr>\n",
       "    <tr>\n",
       "      <th>990</th>\n",
       "      <td>boonebo01</td>\n",
       "      <td>1985</td>\n",
       "      <td>CAL</td>\n",
       "      <td>150</td>\n",
       "      <td>460.0</td>\n",
       "      <td>37.0</td>\n",
       "      <td>114.0</td>\n",
       "      <td>17.0</td>\n",
       "      <td>0.0</td>\n",
       "      <td>5.0</td>\n",
       "      <td>55.0</td>\n",
       "      <td>37.0</td>\n",
       "      <td>35.0</td>\n",
       "      <td>3.0</td>\n",
       "      <td>4.0</td>\n",
       "      <td>0.622947</td>\n",
       "      <td>70.0</td>\n",
       "      <td>883000.0</td>\n",
       "    </tr>\n",
       "    <tr>\n",
       "      <th>7056</th>\n",
       "      <td>oestero01</td>\n",
       "      <td>1985</td>\n",
       "      <td>CIN</td>\n",
       "      <td>152</td>\n",
       "      <td>526.0</td>\n",
       "      <td>59.0</td>\n",
       "      <td>155.0</td>\n",
       "      <td>26.0</td>\n",
       "      <td>3.0</td>\n",
       "      <td>1.0</td>\n",
       "      <td>34.0</td>\n",
       "      <td>51.0</td>\n",
       "      <td>65.0</td>\n",
       "      <td>0.0</td>\n",
       "      <td>5.0</td>\n",
       "      <td>0.715169</td>\n",
       "      <td>149.0</td>\n",
       "      <td>550000.0</td>\n",
       "    </tr>\n",
       "  </tbody>\n",
       "</table>\n",
       "</div>"
      ],
      "text/plain": [
       "        playerID  yearID teamID    G     AB     R      H    2B   3B    HR  \\\n",
       "10606  zuvelpa01    1985    ATL   81  190.0  16.0   48.0   8.0  1.0   0.0   \n",
       "7022   oberkke01    1985    ATL  134  412.0  30.0  112.0  19.0  4.0   3.0   \n",
       "7036   obriepe03    1985    TEX  159  573.0  69.0  153.0  34.0  3.0  22.0   \n",
       "990    boonebo01    1985    CAL  150  460.0  37.0  114.0  17.0  0.0   5.0   \n",
       "7056   oestero01    1985    CIN  152  526.0  59.0  155.0  26.0  3.0   1.0   \n",
       "\n",
       "        RBI    BB    SO  HBP   SF       OPS  index    salary  \n",
       "10606   4.0  16.0  14.0  0.0  0.0  0.615943    NaN       NaN  \n",
       "7022   35.0  51.0  38.0  6.0  2.0  0.718034   16.0  616667.0  \n",
       "7036   92.0  69.0  53.0  1.0  9.0  0.794032  518.0  165000.0  \n",
       "990    55.0  37.0  35.0  3.0  4.0  0.622947   70.0  883000.0  \n",
       "7056   34.0  51.0  65.0  0.0  5.0  0.715169  149.0  550000.0  "
      ]
     },
     "execution_count": 13,
     "metadata": {},
     "output_type": "execute_result"
    }
   ],
   "source": [
    "batting_salaries = batting_salaries.sort_values(by='yearID')\n",
    "batting_salaries.head()"
   ]
  },
  {
   "cell_type": "markdown",
   "id": "0DW14O88bwGd",
   "metadata": {
    "id": "0DW14O88bwGd"
   },
   "source": [
    "Like with our batting data, we needed to drop the rows with a null value in the salary column to make sure they don't interfere with any calculations we want to do in the future with the data. We also reset the index for clarity. "
   ]
  },
  {
   "cell_type": "code",
   "execution_count": 14,
   "id": "df0a90b1",
   "metadata": {
    "colab": {
     "base_uri": "https://localhost:8080/",
     "height": 204
    },
    "id": "df0a90b1",
    "outputId": "91518f49-fac0-4ea8-9731-afc0c23342cc"
   },
   "outputs": [
    {
     "data": {
      "text/html": [
       "<div>\n",
       "<style scoped>\n",
       "    .dataframe tbody tr th:only-of-type {\n",
       "        vertical-align: middle;\n",
       "    }\n",
       "\n",
       "    .dataframe tbody tr th {\n",
       "        vertical-align: top;\n",
       "    }\n",
       "\n",
       "    .dataframe thead th {\n",
       "        text-align: right;\n",
       "    }\n",
       "</style>\n",
       "<table border=\"1\" class=\"dataframe\">\n",
       "  <thead>\n",
       "    <tr style=\"text-align: right;\">\n",
       "      <th></th>\n",
       "      <th>level_0</th>\n",
       "      <th>playerID</th>\n",
       "      <th>yearID</th>\n",
       "      <th>teamID</th>\n",
       "      <th>G</th>\n",
       "      <th>AB</th>\n",
       "      <th>R</th>\n",
       "      <th>H</th>\n",
       "      <th>2B</th>\n",
       "      <th>3B</th>\n",
       "      <th>HR</th>\n",
       "      <th>RBI</th>\n",
       "      <th>BB</th>\n",
       "      <th>SO</th>\n",
       "      <th>HBP</th>\n",
       "      <th>SF</th>\n",
       "      <th>OPS</th>\n",
       "      <th>index</th>\n",
       "      <th>salary</th>\n",
       "    </tr>\n",
       "  </thead>\n",
       "  <tbody>\n",
       "    <tr>\n",
       "      <th>0</th>\n",
       "      <td>7022</td>\n",
       "      <td>oberkke01</td>\n",
       "      <td>1985</td>\n",
       "      <td>ATL</td>\n",
       "      <td>134</td>\n",
       "      <td>412.0</td>\n",
       "      <td>30.0</td>\n",
       "      <td>112.0</td>\n",
       "      <td>19.0</td>\n",
       "      <td>4.0</td>\n",
       "      <td>3.0</td>\n",
       "      <td>35.0</td>\n",
       "      <td>51.0</td>\n",
       "      <td>38.0</td>\n",
       "      <td>6.0</td>\n",
       "      <td>2.0</td>\n",
       "      <td>0.718034</td>\n",
       "      <td>16.0</td>\n",
       "      <td>616667.0</td>\n",
       "    </tr>\n",
       "    <tr>\n",
       "      <th>1</th>\n",
       "      <td>7036</td>\n",
       "      <td>obriepe03</td>\n",
       "      <td>1985</td>\n",
       "      <td>TEX</td>\n",
       "      <td>159</td>\n",
       "      <td>573.0</td>\n",
       "      <td>69.0</td>\n",
       "      <td>153.0</td>\n",
       "      <td>34.0</td>\n",
       "      <td>3.0</td>\n",
       "      <td>22.0</td>\n",
       "      <td>92.0</td>\n",
       "      <td>69.0</td>\n",
       "      <td>53.0</td>\n",
       "      <td>1.0</td>\n",
       "      <td>9.0</td>\n",
       "      <td>0.794032</td>\n",
       "      <td>518.0</td>\n",
       "      <td>165000.0</td>\n",
       "    </tr>\n",
       "    <tr>\n",
       "      <th>2</th>\n",
       "      <td>990</td>\n",
       "      <td>boonebo01</td>\n",
       "      <td>1985</td>\n",
       "      <td>CAL</td>\n",
       "      <td>150</td>\n",
       "      <td>460.0</td>\n",
       "      <td>37.0</td>\n",
       "      <td>114.0</td>\n",
       "      <td>17.0</td>\n",
       "      <td>0.0</td>\n",
       "      <td>5.0</td>\n",
       "      <td>55.0</td>\n",
       "      <td>37.0</td>\n",
       "      <td>35.0</td>\n",
       "      <td>3.0</td>\n",
       "      <td>4.0</td>\n",
       "      <td>0.622947</td>\n",
       "      <td>70.0</td>\n",
       "      <td>883000.0</td>\n",
       "    </tr>\n",
       "    <tr>\n",
       "      <th>3</th>\n",
       "      <td>7056</td>\n",
       "      <td>oestero01</td>\n",
       "      <td>1985</td>\n",
       "      <td>CIN</td>\n",
       "      <td>152</td>\n",
       "      <td>526.0</td>\n",
       "      <td>59.0</td>\n",
       "      <td>155.0</td>\n",
       "      <td>26.0</td>\n",
       "      <td>3.0</td>\n",
       "      <td>1.0</td>\n",
       "      <td>34.0</td>\n",
       "      <td>51.0</td>\n",
       "      <td>65.0</td>\n",
       "      <td>0.0</td>\n",
       "      <td>5.0</td>\n",
       "      <td>0.715169</td>\n",
       "      <td>149.0</td>\n",
       "      <td>550000.0</td>\n",
       "    </tr>\n",
       "    <tr>\n",
       "      <th>4</th>\n",
       "      <td>7073</td>\n",
       "      <td>oglivbe01</td>\n",
       "      <td>1985</td>\n",
       "      <td>ML4</td>\n",
       "      <td>101</td>\n",
       "      <td>341.0</td>\n",
       "      <td>40.0</td>\n",
       "      <td>99.0</td>\n",
       "      <td>17.0</td>\n",
       "      <td>2.0</td>\n",
       "      <td>10.0</td>\n",
       "      <td>61.0</td>\n",
       "      <td>37.0</td>\n",
       "      <td>51.0</td>\n",
       "      <td>2.0</td>\n",
       "      <td>10.0</td>\n",
       "      <td>0.793729</td>\n",
       "      <td>298.0</td>\n",
       "      <td>560000.0</td>\n",
       "    </tr>\n",
       "  </tbody>\n",
       "</table>\n",
       "</div>"
      ],
      "text/plain": [
       "   level_0   playerID  yearID teamID    G     AB     R      H    2B   3B  \\\n",
       "0     7022  oberkke01    1985    ATL  134  412.0  30.0  112.0  19.0  4.0   \n",
       "1     7036  obriepe03    1985    TEX  159  573.0  69.0  153.0  34.0  3.0   \n",
       "2      990  boonebo01    1985    CAL  150  460.0  37.0  114.0  17.0  0.0   \n",
       "3     7056  oestero01    1985    CIN  152  526.0  59.0  155.0  26.0  3.0   \n",
       "4     7073  oglivbe01    1985    ML4  101  341.0  40.0   99.0  17.0  2.0   \n",
       "\n",
       "     HR   RBI    BB    SO  HBP    SF       OPS  index    salary  \n",
       "0   3.0  35.0  51.0  38.0  6.0   2.0  0.718034   16.0  616667.0  \n",
       "1  22.0  92.0  69.0  53.0  1.0   9.0  0.794032  518.0  165000.0  \n",
       "2   5.0  55.0  37.0  35.0  3.0   4.0  0.622947   70.0  883000.0  \n",
       "3   1.0  34.0  51.0  65.0  0.0   5.0  0.715169  149.0  550000.0  \n",
       "4  10.0  61.0  37.0  51.0  2.0  10.0  0.793729  298.0  560000.0  "
      ]
     },
     "execution_count": 14,
     "metadata": {},
     "output_type": "execute_result"
    }
   ],
   "source": [
    "batting_salaries = batting_salaries.dropna().reset_index()\n",
    "batting_salaries.head()"
   ]
  },
  {
   "cell_type": "markdown",
   "id": "IZe2Mpv3cJc9",
   "metadata": {
    "id": "IZe2Mpv3cJc9"
   },
   "source": [
    "We also dropped the level_0 and index column, which wasn't useful to our data (they got added to the dataframe when we merged and reset_index()). "
   ]
  },
  {
   "cell_type": "code",
   "execution_count": 15,
   "id": "7cc8e56c",
   "metadata": {
    "colab": {
     "base_uri": "https://localhost:8080/",
     "height": 204
    },
    "id": "7cc8e56c",
    "outputId": "ad50dfd9-bc04-4713-ee6b-bebe86f3f6bf"
   },
   "outputs": [
    {
     "data": {
      "text/html": [
       "<div>\n",
       "<style scoped>\n",
       "    .dataframe tbody tr th:only-of-type {\n",
       "        vertical-align: middle;\n",
       "    }\n",
       "\n",
       "    .dataframe tbody tr th {\n",
       "        vertical-align: top;\n",
       "    }\n",
       "\n",
       "    .dataframe thead th {\n",
       "        text-align: right;\n",
       "    }\n",
       "</style>\n",
       "<table border=\"1\" class=\"dataframe\">\n",
       "  <thead>\n",
       "    <tr style=\"text-align: right;\">\n",
       "      <th></th>\n",
       "      <th>playerID</th>\n",
       "      <th>yearID</th>\n",
       "      <th>teamID</th>\n",
       "      <th>G</th>\n",
       "      <th>AB</th>\n",
       "      <th>R</th>\n",
       "      <th>H</th>\n",
       "      <th>2B</th>\n",
       "      <th>3B</th>\n",
       "      <th>HR</th>\n",
       "      <th>RBI</th>\n",
       "      <th>BB</th>\n",
       "      <th>SO</th>\n",
       "      <th>HBP</th>\n",
       "      <th>SF</th>\n",
       "      <th>OPS</th>\n",
       "      <th>salary</th>\n",
       "    </tr>\n",
       "  </thead>\n",
       "  <tbody>\n",
       "    <tr>\n",
       "      <th>0</th>\n",
       "      <td>oberkke01</td>\n",
       "      <td>1985</td>\n",
       "      <td>ATL</td>\n",
       "      <td>134</td>\n",
       "      <td>412.0</td>\n",
       "      <td>30.0</td>\n",
       "      <td>112.0</td>\n",
       "      <td>19.0</td>\n",
       "      <td>4.0</td>\n",
       "      <td>3.0</td>\n",
       "      <td>35.0</td>\n",
       "      <td>51.0</td>\n",
       "      <td>38.0</td>\n",
       "      <td>6.0</td>\n",
       "      <td>2.0</td>\n",
       "      <td>0.718034</td>\n",
       "      <td>616667.0</td>\n",
       "    </tr>\n",
       "    <tr>\n",
       "      <th>1</th>\n",
       "      <td>obriepe03</td>\n",
       "      <td>1985</td>\n",
       "      <td>TEX</td>\n",
       "      <td>159</td>\n",
       "      <td>573.0</td>\n",
       "      <td>69.0</td>\n",
       "      <td>153.0</td>\n",
       "      <td>34.0</td>\n",
       "      <td>3.0</td>\n",
       "      <td>22.0</td>\n",
       "      <td>92.0</td>\n",
       "      <td>69.0</td>\n",
       "      <td>53.0</td>\n",
       "      <td>1.0</td>\n",
       "      <td>9.0</td>\n",
       "      <td>0.794032</td>\n",
       "      <td>165000.0</td>\n",
       "    </tr>\n",
       "    <tr>\n",
       "      <th>2</th>\n",
       "      <td>boonebo01</td>\n",
       "      <td>1985</td>\n",
       "      <td>CAL</td>\n",
       "      <td>150</td>\n",
       "      <td>460.0</td>\n",
       "      <td>37.0</td>\n",
       "      <td>114.0</td>\n",
       "      <td>17.0</td>\n",
       "      <td>0.0</td>\n",
       "      <td>5.0</td>\n",
       "      <td>55.0</td>\n",
       "      <td>37.0</td>\n",
       "      <td>35.0</td>\n",
       "      <td>3.0</td>\n",
       "      <td>4.0</td>\n",
       "      <td>0.622947</td>\n",
       "      <td>883000.0</td>\n",
       "    </tr>\n",
       "    <tr>\n",
       "      <th>3</th>\n",
       "      <td>oestero01</td>\n",
       "      <td>1985</td>\n",
       "      <td>CIN</td>\n",
       "      <td>152</td>\n",
       "      <td>526.0</td>\n",
       "      <td>59.0</td>\n",
       "      <td>155.0</td>\n",
       "      <td>26.0</td>\n",
       "      <td>3.0</td>\n",
       "      <td>1.0</td>\n",
       "      <td>34.0</td>\n",
       "      <td>51.0</td>\n",
       "      <td>65.0</td>\n",
       "      <td>0.0</td>\n",
       "      <td>5.0</td>\n",
       "      <td>0.715169</td>\n",
       "      <td>550000.0</td>\n",
       "    </tr>\n",
       "    <tr>\n",
       "      <th>4</th>\n",
       "      <td>oglivbe01</td>\n",
       "      <td>1985</td>\n",
       "      <td>ML4</td>\n",
       "      <td>101</td>\n",
       "      <td>341.0</td>\n",
       "      <td>40.0</td>\n",
       "      <td>99.0</td>\n",
       "      <td>17.0</td>\n",
       "      <td>2.0</td>\n",
       "      <td>10.0</td>\n",
       "      <td>61.0</td>\n",
       "      <td>37.0</td>\n",
       "      <td>51.0</td>\n",
       "      <td>2.0</td>\n",
       "      <td>10.0</td>\n",
       "      <td>0.793729</td>\n",
       "      <td>560000.0</td>\n",
       "    </tr>\n",
       "  </tbody>\n",
       "</table>\n",
       "</div>"
      ],
      "text/plain": [
       "    playerID  yearID teamID    G     AB     R      H    2B   3B    HR   RBI  \\\n",
       "0  oberkke01    1985    ATL  134  412.0  30.0  112.0  19.0  4.0   3.0  35.0   \n",
       "1  obriepe03    1985    TEX  159  573.0  69.0  153.0  34.0  3.0  22.0  92.0   \n",
       "2  boonebo01    1985    CAL  150  460.0  37.0  114.0  17.0  0.0   5.0  55.0   \n",
       "3  oestero01    1985    CIN  152  526.0  59.0  155.0  26.0  3.0   1.0  34.0   \n",
       "4  oglivbe01    1985    ML4  101  341.0  40.0   99.0  17.0  2.0  10.0  61.0   \n",
       "\n",
       "     BB    SO  HBP    SF       OPS    salary  \n",
       "0  51.0  38.0  6.0   2.0  0.718034  616667.0  \n",
       "1  69.0  53.0  1.0   9.0  0.794032  165000.0  \n",
       "2  37.0  35.0  3.0   4.0  0.622947  883000.0  \n",
       "3  51.0  65.0  0.0   5.0  0.715169  550000.0  \n",
       "4  37.0  51.0  2.0  10.0  0.793729  560000.0  "
      ]
     },
     "execution_count": 15,
     "metadata": {},
     "output_type": "execute_result"
    }
   ],
   "source": [
    "batting_salaries = batting_salaries.drop(['level_0','index'],axis=1)\n",
    "batting_salaries.head()"
   ]
  },
  {
   "cell_type": "markdown",
   "id": "ckE0rrzW0vOc",
   "metadata": {
    "id": "ckE0rrzW0vOc"
   },
   "source": [
    "While looking at the first few rows of the previous dataframe, we realized something interesting about the teamID column. The teamID CAL and ML4 aren't current abbreviations for teams. This prompted us to look at all the teamID values."
   ]
  },
  {
   "cell_type": "code",
   "execution_count": 16,
   "id": "f8fc85f6",
   "metadata": {
    "colab": {
     "base_uri": "https://localhost:8080/"
    },
    "id": "f8fc85f6",
    "outputId": "5be3dc87-cbe2-4b2b-d3b5-5246443bc148"
   },
   "outputs": [
    {
     "data": {
      "text/plain": [
       "array(['ATL', 'TEX', 'CAL', 'CIN', 'ML4', 'PIT', 'KCA', 'SEA', 'OAK',\n",
       "       'DET', 'HOU', 'MIN', 'SDN', 'SLN', 'CHN', 'LAN', 'NYA', 'MON',\n",
       "       'SFN', 'TOR', 'BAL', 'CLE', 'BOS', 'NYN', 'CHA', 'PHI', 'FLO',\n",
       "       'COL', 'ANA', 'ARI', 'TBA', 'MIL', 'WAS', 'LAA', 'MIA'],\n",
       "      dtype=object)"
      ]
     },
     "execution_count": 16,
     "metadata": {},
     "output_type": "execute_result"
    }
   ],
   "source": [
    "batting_salaries['teamID'].unique() "
   ]
  },
  {
   "cell_type": "markdown",
   "id": "SNhhLH7YKUXZ",
   "metadata": {
    "id": "SNhhLH7YKUXZ"
   },
   "source": [
    "We found that there were 35 unique team IDs, despite there being only 30 teams in the MLB as of present. \n",
    "\n",
    "With a little background research, we found that:\n",
    "*   MON represents the Montreal Expos, which no longer exists as a baseball team\n",
    "*   ML4 was a database naming error that was supposed to also be included with the MIL data\n",
    "*   Both ANA and CAL were former labels for LAA\n",
    "*   FLO was a former label for MIA\n",
    "\n",
    "Thus, we decided to:\n",
    "\n",
    "1) get rid of the data that belongs to teams that don't exist anymore \n",
    "\n",
    "2) merge data with teams that have been renamed"
   ]
  },
  {
   "cell_type": "code",
   "execution_count": 17,
   "id": "430b1bda",
   "metadata": {
    "colab": {
     "base_uri": "https://localhost:8080/"
    },
    "id": "430b1bda",
    "outputId": "66be97f3-4eb3-4eb1-c18f-4221398adfc3"
   },
   "outputs": [
    {
     "data": {
      "text/plain": [
       "array(['ATL', 'TEX', 'LAA', 'CIN', 'MIL', 'PIT', 'KCA', 'SEA', 'OAK',\n",
       "       'DET', 'HOU', 'MIN', 'SDN', 'SLN', 'CHN', 'LAN', 'NYA', 'SFN',\n",
       "       'TOR', 'BAL', 'CLE', 'BOS', 'NYN', 'CHA', 'PHI', 'MIA', 'COL',\n",
       "       'ARI', 'TBA', 'WAS'], dtype=object)"
      ]
     },
     "execution_count": 17,
     "metadata": {},
     "output_type": "execute_result"
    }
   ],
   "source": [
    "batting_salaries = batting_salaries[~ (batting_salaries['teamID']=='MON')] \n",
    "batting_salaries.loc[batting_salaries.teamID == 'ML4', 'teamID'] = 'MIL' \n",
    "batting_salaries.loc[batting_salaries.teamID == 'ANA', 'teamID'] = 'LAA' \n",
    "batting_salaries.loc[batting_salaries.teamID == 'CAL', 'teamID'] = 'LAA' \n",
    "batting_salaries.loc[batting_salaries.teamID == 'FLO', 'teamID'] = 'MIA' \n",
    "batting_salaries['teamID'].unique() "
   ]
  },
  {
   "cell_type": "markdown",
   "id": "5HF99SOzckHZ",
   "metadata": {
    "id": "5HF99SOzckHZ"
   },
   "source": [
    "The result of these changes is now 30 unique teams, which match with present day teams.\n",
    "\n",
    "\n"
   ]
  },
  {
   "cell_type": "code",
   "execution_count": 18,
   "id": "B3Sjf4g92jvO",
   "metadata": {
    "colab": {
     "base_uri": "https://localhost:8080/",
     "height": 204
    },
    "id": "B3Sjf4g92jvO",
    "outputId": "ee5abee4-1d3e-4fee-86f6-b93e58ecb545"
   },
   "outputs": [
    {
     "data": {
      "text/html": [
       "<div>\n",
       "<style scoped>\n",
       "    .dataframe tbody tr th:only-of-type {\n",
       "        vertical-align: middle;\n",
       "    }\n",
       "\n",
       "    .dataframe tbody tr th {\n",
       "        vertical-align: top;\n",
       "    }\n",
       "\n",
       "    .dataframe thead th {\n",
       "        text-align: right;\n",
       "    }\n",
       "</style>\n",
       "<table border=\"1\" class=\"dataframe\">\n",
       "  <thead>\n",
       "    <tr style=\"text-align: right;\">\n",
       "      <th></th>\n",
       "      <th>playerID</th>\n",
       "      <th>yearID</th>\n",
       "      <th>teamID</th>\n",
       "      <th>G</th>\n",
       "      <th>AB</th>\n",
       "      <th>R</th>\n",
       "      <th>H</th>\n",
       "      <th>2B</th>\n",
       "      <th>3B</th>\n",
       "      <th>HR</th>\n",
       "      <th>RBI</th>\n",
       "      <th>BB</th>\n",
       "      <th>SO</th>\n",
       "      <th>HBP</th>\n",
       "      <th>SF</th>\n",
       "      <th>OPS</th>\n",
       "      <th>salary</th>\n",
       "    </tr>\n",
       "  </thead>\n",
       "  <tbody>\n",
       "    <tr>\n",
       "      <th>0</th>\n",
       "      <td>oberkke01</td>\n",
       "      <td>1985</td>\n",
       "      <td>ATL</td>\n",
       "      <td>134</td>\n",
       "      <td>412.0</td>\n",
       "      <td>30.0</td>\n",
       "      <td>112.0</td>\n",
       "      <td>19.0</td>\n",
       "      <td>4.0</td>\n",
       "      <td>3.0</td>\n",
       "      <td>35.0</td>\n",
       "      <td>51.0</td>\n",
       "      <td>38.0</td>\n",
       "      <td>6.0</td>\n",
       "      <td>2.0</td>\n",
       "      <td>0.718034</td>\n",
       "      <td>616667.0</td>\n",
       "    </tr>\n",
       "    <tr>\n",
       "      <th>1</th>\n",
       "      <td>obriepe03</td>\n",
       "      <td>1985</td>\n",
       "      <td>TEX</td>\n",
       "      <td>159</td>\n",
       "      <td>573.0</td>\n",
       "      <td>69.0</td>\n",
       "      <td>153.0</td>\n",
       "      <td>34.0</td>\n",
       "      <td>3.0</td>\n",
       "      <td>22.0</td>\n",
       "      <td>92.0</td>\n",
       "      <td>69.0</td>\n",
       "      <td>53.0</td>\n",
       "      <td>1.0</td>\n",
       "      <td>9.0</td>\n",
       "      <td>0.794032</td>\n",
       "      <td>165000.0</td>\n",
       "    </tr>\n",
       "    <tr>\n",
       "      <th>2</th>\n",
       "      <td>boonebo01</td>\n",
       "      <td>1985</td>\n",
       "      <td>LAA</td>\n",
       "      <td>150</td>\n",
       "      <td>460.0</td>\n",
       "      <td>37.0</td>\n",
       "      <td>114.0</td>\n",
       "      <td>17.0</td>\n",
       "      <td>0.0</td>\n",
       "      <td>5.0</td>\n",
       "      <td>55.0</td>\n",
       "      <td>37.0</td>\n",
       "      <td>35.0</td>\n",
       "      <td>3.0</td>\n",
       "      <td>4.0</td>\n",
       "      <td>0.622947</td>\n",
       "      <td>883000.0</td>\n",
       "    </tr>\n",
       "    <tr>\n",
       "      <th>3</th>\n",
       "      <td>oestero01</td>\n",
       "      <td>1985</td>\n",
       "      <td>CIN</td>\n",
       "      <td>152</td>\n",
       "      <td>526.0</td>\n",
       "      <td>59.0</td>\n",
       "      <td>155.0</td>\n",
       "      <td>26.0</td>\n",
       "      <td>3.0</td>\n",
       "      <td>1.0</td>\n",
       "      <td>34.0</td>\n",
       "      <td>51.0</td>\n",
       "      <td>65.0</td>\n",
       "      <td>0.0</td>\n",
       "      <td>5.0</td>\n",
       "      <td>0.715169</td>\n",
       "      <td>550000.0</td>\n",
       "    </tr>\n",
       "    <tr>\n",
       "      <th>4</th>\n",
       "      <td>oglivbe01</td>\n",
       "      <td>1985</td>\n",
       "      <td>MIL</td>\n",
       "      <td>101</td>\n",
       "      <td>341.0</td>\n",
       "      <td>40.0</td>\n",
       "      <td>99.0</td>\n",
       "      <td>17.0</td>\n",
       "      <td>2.0</td>\n",
       "      <td>10.0</td>\n",
       "      <td>61.0</td>\n",
       "      <td>37.0</td>\n",
       "      <td>51.0</td>\n",
       "      <td>2.0</td>\n",
       "      <td>10.0</td>\n",
       "      <td>0.793729</td>\n",
       "      <td>560000.0</td>\n",
       "    </tr>\n",
       "  </tbody>\n",
       "</table>\n",
       "</div>"
      ],
      "text/plain": [
       "    playerID  yearID teamID    G     AB     R      H    2B   3B    HR   RBI  \\\n",
       "0  oberkke01    1985    ATL  134  412.0  30.0  112.0  19.0  4.0   3.0  35.0   \n",
       "1  obriepe03    1985    TEX  159  573.0  69.0  153.0  34.0  3.0  22.0  92.0   \n",
       "2  boonebo01    1985    LAA  150  460.0  37.0  114.0  17.0  0.0   5.0  55.0   \n",
       "3  oestero01    1985    CIN  152  526.0  59.0  155.0  26.0  3.0   1.0  34.0   \n",
       "4  oglivbe01    1985    MIL  101  341.0  40.0   99.0  17.0  2.0  10.0  61.0   \n",
       "\n",
       "     BB    SO  HBP    SF       OPS    salary  \n",
       "0  51.0  38.0  6.0   2.0  0.718034  616667.0  \n",
       "1  69.0  53.0  1.0   9.0  0.794032  165000.0  \n",
       "2  37.0  35.0  3.0   4.0  0.622947  883000.0  \n",
       "3  51.0  65.0  0.0   5.0  0.715169  550000.0  \n",
       "4  37.0  51.0  2.0  10.0  0.793729  560000.0  "
      ]
     },
     "execution_count": 18,
     "metadata": {},
     "output_type": "execute_result"
    }
   ],
   "source": [
    "batting_salaries.head()"
   ]
  },
  {
   "cell_type": "markdown",
   "id": "VUOsqZgg2ny5",
   "metadata": {
    "id": "VUOsqZgg2ny5"
   },
   "source": [
    "Thus, we have the first few rows of our final cleaned dataframe displayed above."
   ]
  },
  {
   "cell_type": "markdown",
   "id": "-kyH5eLEedzT",
   "metadata": {
    "id": "-kyH5eLEedzT"
   },
   "source": [
    "## **Data Description**\n",
    "* _What are the observations (rows) and the attributes (columns)?_\n",
    " * With each data set, generally, the observations are the individual players and the attributes are their corresponding statistics. All three data sets include attributes playerID, yearID, and teamID to identify each player uniquely with the year and team they played for. The rest of the attributes depend on the data set, for example, in Batting.csv, some of the attributes are stolen bases and strikeouts, so the attributes are related to the title of the csv file. Our final dataframe consists of the following attributes: playerID, yearID, teamID, G (games), AB (at bats), R (runs), H (hits), 2B (doubles), 3B (triples), HR (homeruns), RBI (runs batted in), BB (walks), SO (strikeouts), HBP (hit by pitch), SF (sacrifice flys), OPS (on-base plus slugging), and salary. The observations are the players during a season.\n",
    "\n",
    "* _Why was this dataset created?_\n",
    " * Sean Lahman wanted to make baseball statistics freely available to the general public. He launched the Baseball Archive's website back before most people had heard of the world wide web.  Frustrated by the lack of sports data available, he led the effort to build a baseball database that everyone could use. He created the first version of the database and began to make it available for free download from his website in 1995. Our final dataset was created so that we are able to see some general statistics on baseball players and also some information about the teams. We have been curious about some of the questions we are trying to answer in our report such as if we can predict how much a player will make the following season based on their previous batting history? Can we determine which current players are the most overpaid for their batting production and which players are the most underpaid? They are all questions that would be interesting to see the result and through the creation of the dataset we are able to get more information on the questions.\n",
    "\n",
    "* _Who funded the creation of the dataset? What preprocessing was done, and how did the data come to be in the form that you are using?_\n",
    " * Sean Lahman is an author and journalist who speaks about database journalism, data mining and open-source databases.What started as a one man effort in 1994 has grown tremendously, and now a team of researchers have collected their efforts to make this the largest and most accurate source for baseball statistics available anywhere.\n",
    " * Much of the raw data contained in this database comes from the work of Pete Palmer, the legendary statistician, who has had a hand in most of the baseball encyclopedias published since 1974.\n",
    " * Sean Forman to create and maintain an online encyclopedia at Baseball-Reference.com was a quantum leap for both fans and researchers. The website launched in 2000, providing a user-friendly interface to the Lahman Baseball Database.  Forman and Lahman launched the Baseball Databank in 2001, a group of researchers whose goal was to update and maintain the database as an open source collection available to all.\n",
    " * Ted Turocy updates the main data tables since 2012, automating the work of annual updates and linking historical data to play-by-play accounts compiled by Retrosheet. A handful of researchers have made substantial contributions to maintain this database over the years. Listed alphabetically, they are: Derek Adair, Mike Crain, Kevin Johnson, Rod Nelson, Tom Tango, and Paul Wendt. These folks did much of the heavy lifting, and are largely responsible for the improvements made since 2000.\n",
    " * Salary data was first supplied by Doug Pappas, who passed away during the summer of 2004. He was the leading authority on many subjects, most significantly the financial history of Major League Baseball.\n",
    " * Therefore, we have statistics that are turned into a relational database. Many other people have made significant contributions to the database over the years.\n",
    " * In our case, the final dataset was funded by Hanna Yen, Sofia Florez, Lawrence Xing, and Richard Kim. For preprocessing, we downloaded the original dataset and made sure it was from an accurate and reliable source. We made sure to drop any NaNs in our data and we also deleted some records that we were not going to be using. Some of these were attributes relating to certain baseball statistics and other data that was dropped was of any record of information before 1985. Our data came to be by downloading the original dataset and then dropping and adding some columns. We started by dropping some of the statistics from the dataframe. Specifically, we got rid of the columns stint, lgID, SB, CS, IBB, SH, and GIDP. We kept the ones that we are interested in and relevant to our questions. For instance, SB stands for 'stolen bases' and this is not a batting statistic so we dropped this column. We then continued to save these modified dataframes. \n",
    "\n",
    "* _What processes might have influenced what data was observed and recorded and what was not?_\n",
    " * Since we are using data that is post 1984, there should be pretty standardized ways that every major league baseball game played used to collect in-game statistics. Regardless of team or location, scorecards are used to explain the details of each at-bat throughout the game. This means that the data we used should be pretty accurate and most likely verified by both teams, as well as by Major League Baseball for official scorekeeping purposes. This also means that more advanced data such as exit velocity of a batted ball, launch angles, expected batting averages, etc could not be recorded (since the technology is post 2015). \n",
    " * For our case, there were a couple factors that influenced the data we  observed and what we chose to leave off our data set. To begin, we selected batting statistics based off of our collective background knowledge of the sport. This means that someone with more or less knowledge of baseball might have chosen different statistics to leave off and to include. Another process that affected our final data set was the changing number of teams throughout the post 1984 data. Since some teams had been added and removed from the MLB between then and 2015, we wanted to only create plots of salaries by team on data that had all the current teams. This means we had to use a subset of our final data between 1998 and 2015 for those specific plots. \n",
    " \n",
    "* _If people are involved, were they aware of the data collection and if so, what purpose did they expect the data to be used for?_\n",
    " * Since they are players, they should be aware that their statistics are recorded but it is possible that they do not know the existence of this dataset, especially players recorded prior to 2000. The players would probably assume that it’s for any purpose you might want to analyze the statistics for, such as betting and scouting.\n",
    " * In our case, we are aware of the data collection and expected to use the data to conduct research questions.\n",
    "\n",
    "* _Where can your raw source data be found, if applicable? Provide a link to the raw data (hosted in a Cornell Google Drive or Cornell Box)._\n",
    " * Google Drive: https://drive.google.com/drive/folders/1SRDnliZUPS6jxoZ1ly2K9TEwQI95IVum?usp=sharing\n",
    " * Original: https://www.kaggle.com/open-source-sports/baseball-databank \n",
    "\n",
    "* _Does the dataset contain all possible instances or is it a sample (not necessarily random) of instances from a larger set?_\n",
    " * This dataset does not contain all of the possible instances because the first official game of baseball in the United States took place in June 1846 in Hoboken, New Jersey. The earliest year that is available in the dataset is 1871. Therefore, for the first 25 years that baseball was officially played no data was recorded. Also, the last year that is available in this dataset is 2015. We are in 2021 which means that a total of six recent years of baseball games statistics are missing.\n",
    " * For our final dataset, there also weren't all the possible instances from the original dataset. We used a final timeline of between 1985 and 2015 because that was the time period between which the salary data was available. Like mentioned earlier, we also had to use a subset of data between 1998 and 2015, when comparing team salaries because not all the teams were the same prior to that period. We also dropped instances (players) based on a couple of different conditions. The first one was having null values, which we found to often mean that the player was actually a pitcher and not a batter. We also dropped players with less than 54 games played because this marks off a third of the season and we felt that it was a good cut off point for players to have a good sample size of how well they performed that season. Fewer games could represent that a player was hurt that year for an extended period of time, or just did not play consistently because they weren’t a starter. \n",
    " \n",
    "\n",
    "\n",
    "\n"
   ]
  },
  {
   "cell_type": "markdown",
   "id": "GSFXJOXQfr_c",
   "metadata": {
    "id": "GSFXJOXQfr_c"
   },
   "source": [
    "## **Data Limitations**\n",
    "\n",
    "Some potential limitations regarding our dataset:\n",
    "\n",
    "* Our data only spans from 1985-2015 which is a limited range of years. There is a lot of baseball data that exists before 1985 and after 2015 that our dataset does not have, and therefore, does not take into account when we perform our EDA.\n",
    "\n",
    "* When we cleaned our data, we got rid of players who played under 54 games of the season so that our data is more uniform. However, players who get paid well and are injured for part of the season and only end up playing a limited amount of games may fall within the rows we dropped. Thus, we may have gotten rid of a couple data points that would be helpful to our EDA.\n",
    "\n",
    "* Baseball has a lot of variability and players can have better and worse seasons throughout the lifespan of their contracts, which can make it difficult to assign players an average batting statistic(s). To lessen the variability, we want to look at the season right before a player signs their contract to eliminate season to season variability; however, it could be possible for a player to have a bad season and get paid well the year after if they performed well during their other previous seasons.\n",
    "\n",
    "* What truly defines under and over-paid? For our purposes, we are going to use quantiles. The 1st quantile and lower outliers will represent underpaid athletes and the 4th quantile and greater outliers will represent overpaid athletes. Our definition may change as we continue working on the project.\n",
    "\n",
    "* We came to the realization that we had 35 unique team ids but there are only 30 teams in the league. We had to decide if we wanted to have the data for the teams in our time frame starting from 1985 or if we wanted to start our time frame from earlier to include all of the teams in the league now. In the first case, we would have more data concerning the changes over the years, however, we would not be able to include some teams that have been valuable to baseball in recent years. In the second case, we would have more data on the differences between teams and would be able to include all of the teams, however, we would have fewer years available to perform analysis on the changes over the years. We decided we would rather have more team by team differences than a longer time span and therefore settled on the second option. This affects our general conclusions as for most of the data that we analyze starts from 1985 but in regard to analyzing salaries, we used a subset of data that was available starting from 1998. \n",
    "\n",
    "* Since the main statistic we chose, OPS, was a calculation of multiple other batting variables, certain variables could drive up the final value and hide other weaknesses of a batter’s offensive game. For example, a player could have a high OPS from hitting a lot of homeruns even if they do not have a lot of hits.\n",
    "\n",
    "_Key points:_\n",
    "\n",
    "* It is important to note that the statistics we chose don’t necessarily capture a player’s 'value' (similar to how students having good or bad test scores cannot be used to conclude whether they are good or bad students). Therefore, we cannot conclude anything about how good a baseball player is by solely looking at their batting statistics in order to stay true to not making assumptions regarding our analysis.\n",
    "\n",
    "* Furthermore, it is important to realize that batting statistics aren't the only factor indicative of a player's salary. Our findings absolutely do not apply to pitchers because their salary is determined by their pitching statistics. In addition, many players could be paid well because they are good fielders and perform well on defense. This would make their batting statistics less relevant to their salary. Lastly, some players may be paid well just because they fit well with the team and the team's future goals/motto. Thus, the results of our findings that look at the relationship between batting statistics and salaries is not applicable to every player in the MLB and we absolutely should not be assigning MLB players to a salary solely based on their batting statistics."
   ]
  },
  {
   "cell_type": "markdown",
   "id": "NqF3CUbmgTvG",
   "metadata": {
    "id": "NqF3CUbmgTvG"
   },
   "source": [
    "## **Exploratory Data Analysis**"
   ]
  },
  {
   "cell_type": "markdown",
   "id": "ZKRoSRyNi9-t",
   "metadata": {
    "id": "ZKRoSRyNi9-t"
   },
   "source": [
    "We started exploratory data analysis by looking at the distribution of pay for each year in our dataset. We used boxplots that looked at salary grouped by year for this. "
   ]
  },
  {
   "cell_type": "code",
   "execution_count": 19,
   "id": "ff58e70e",
   "metadata": {
    "colab": {
     "base_uri": "https://localhost:8080/",
     "height": 730
    },
    "id": "ff58e70e",
    "outputId": "2f6750b4-3a18-498b-ea3f-8fc85ad9c989"
   },
   "outputs": [
    {
     "data": {
      "image/png": "[encoded data removed]",
      "text/plain": [
       "<Figure size 864x720 with 1 Axes>"
      ]
     },
     "metadata": {
      "needs_background": "light"
     },
     "output_type": "display_data"
    }
   ],
   "source": [
    "batting_salaries.boxplot(column='salary',by='yearID',figsize=(12,10))\n",
    "plt.ylabel('salary (in millions of dollars)')\n",
    "plt.xlabel('year')\n",
    "plt.title('salary grouped by year')\n",
    "plt.xticks(rotation=45)\n",
    "plt.show()"
   ]
  },
  {
   "cell_type": "markdown",
   "id": "5CoC7LE_K3Uy",
   "metadata": {
    "id": "5CoC7LE_K3Uy"
   },
   "source": [
    " These boxplots indicates that there is a general increase in salaries as years increase. Furthermore, the range of the data increases as time passes, resulting in larger boxes with more dispersed whiskers. In addition, as time passes, the outliers become more extreme. In 1985, the outliers are not far from the boxplot. In 2009 and 2010, the most extreme outlier is a player who gets paid around 14 times than the median salary in the league. Looking more closely, we see that the median salary has steadily increased over time, but it looks like the salary increase of the upper quartile (the top 25%) has increased exponentially in comparison."
   ]
  },
  {
   "cell_type": "markdown",
   "id": "jlOGNMNYeGqX",
   "metadata": {
    "id": "jlOGNMNYeGqX"
   },
   "source": [
    "Similar to the previous boxplots, we used boxplots that looked at OPS grouped by year in order to look at the distribution of OPS for each year in our dataset.\n"
   ]
  },
  {
   "cell_type": "code",
   "execution_count": 20,
   "id": "e5e18f9a",
   "metadata": {
    "colab": {
     "base_uri": "https://localhost:8080/",
     "height": 730
    },
    "id": "e5e18f9a",
    "outputId": "3b0654c4-8caa-43d6-dd06-6477463c5b71"
   },
   "outputs": [
    {
     "data": {
      "image/png": "[encoded data removed]",
      "text/plain": [
       "<Figure size 864x720 with 1 Axes>"
      ]
     },
     "metadata": {
      "needs_background": "light"
     },
     "output_type": "display_data"
    }
   ],
   "source": [
    "batting_salaries.boxplot(column='OPS',by='yearID',figsize=(12,10))\n",
    "plt.ylabel('OPS')\n",
    "plt.xlabel('year')\n",
    "plt.title('OPS grouped by year')\n",
    "plt.xticks(rotation=45)\n",
    "plt.show()"
   ]
  },
  {
   "cell_type": "markdown",
   "id": "PfDtelv_rXY9",
   "metadata": {
    "id": "PfDtelv_rXY9"
   },
   "source": [
    "These boxplots indicate that the median OPS across 1985-2015 generally stay consistent. In addition, The other quartiles and range of OPS does not vary that much either. Our finding makes sense because on average, baseball batting performance shouldn't drastically increase or decrease by year unless there are changes in the rules of the actual game. We expect these outliers because there are always players who exceed league standards. We looked at an outlier in 2004 to double check that our boxplot data was correct. The outlier is Barry Bonds, who had one of the greatest seasons in baseball history with his 1.422 OPS in 2004 which confirms our boxplots."
   ]
  },
  {
   "cell_type": "code",
   "execution_count": 21,
   "id": "2dfc9893",
   "metadata": {
    "colab": {
     "base_uri": "https://localhost:8080/",
     "height": 80
    },
    "id": "2dfc9893",
    "outputId": "7f457601-88b8-4d6e-d19b-b1517a193b86"
   },
   "outputs": [
    {
     "data": {
      "text/html": [
       "<div>\n",
       "<style scoped>\n",
       "    .dataframe tbody tr th:only-of-type {\n",
       "        vertical-align: middle;\n",
       "    }\n",
       "\n",
       "    .dataframe tbody tr th {\n",
       "        vertical-align: top;\n",
       "    }\n",
       "\n",
       "    .dataframe thead th {\n",
       "        text-align: right;\n",
       "    }\n",
       "</style>\n",
       "<table border=\"1\" class=\"dataframe\">\n",
       "  <thead>\n",
       "    <tr style=\"text-align: right;\">\n",
       "      <th></th>\n",
       "      <th>playerID</th>\n",
       "      <th>yearID</th>\n",
       "      <th>teamID</th>\n",
       "      <th>G</th>\n",
       "      <th>AB</th>\n",
       "      <th>R</th>\n",
       "      <th>H</th>\n",
       "      <th>2B</th>\n",
       "      <th>3B</th>\n",
       "      <th>HR</th>\n",
       "      <th>RBI</th>\n",
       "      <th>BB</th>\n",
       "      <th>SO</th>\n",
       "      <th>HBP</th>\n",
       "      <th>SF</th>\n",
       "      <th>OPS</th>\n",
       "    </tr>\n",
       "  </thead>\n",
       "  <tbody>\n",
       "    <tr>\n",
       "      <th>84759</th>\n",
       "      <td>bondsba01</td>\n",
       "      <td>2004</td>\n",
       "      <td>SFN</td>\n",
       "      <td>147</td>\n",
       "      <td>373.0</td>\n",
       "      <td>129.0</td>\n",
       "      <td>135.0</td>\n",
       "      <td>27.0</td>\n",
       "      <td>3.0</td>\n",
       "      <td>45.0</td>\n",
       "      <td>101.0</td>\n",
       "      <td>232.0</td>\n",
       "      <td>41.0</td>\n",
       "      <td>9.0</td>\n",
       "      <td>3.0</td>\n",
       "      <td>1.421733</td>\n",
       "    </tr>\n",
       "  </tbody>\n",
       "</table>\n",
       "</div>"
      ],
      "text/plain": [
       "        playerID  yearID teamID    G     AB      R      H    2B   3B    HR  \\\n",
       "84759  bondsba01    2004    SFN  147  373.0  129.0  135.0  27.0  3.0  45.0   \n",
       "\n",
       "         RBI     BB    SO  HBP   SF       OPS  \n",
       "84759  101.0  232.0  41.0  9.0  3.0  1.421733  "
      ]
     },
     "execution_count": 21,
     "metadata": {},
     "output_type": "execute_result"
    }
   ],
   "source": [
    "batting[batting['OPS'] > 1.4] "
   ]
  },
  {
   "cell_type": "markdown",
   "id": "L8FaQCpMvB4o",
   "metadata": {
    "id": "L8FaQCpMvB4o"
   },
   "source": [
    "_Conclusion on boxplots:_ The 'Salary grouped by year' boxplot that shows that there is a general increase in salaries as the years become more recent. Furthermore, the spread of the data increases as time passes, resulting in larger boxes with more dispersed whiskers.  The ‘OPS grouped by year’ boxplot shows seemingly consistent data with similar spreads regardless of the year which is probably due to it being an average index for hitters that measure the player’s performance; and it would make sense that it stays mostly constant with new and old players."
   ]
  },
  {
   "cell_type": "markdown",
   "id": "51f33eaa",
   "metadata": {
    "id": "51f33eaa"
   },
   "source": [
    "To continue our EDA, we aimed to create a scatterplot that plotted median and mean salaries against each year."
   ]
  },
  {
   "cell_type": "code",
   "execution_count": 27,
   "id": "b5ff3431",
   "metadata": {
    "colab": {
     "base_uri": "https://localhost:8080/",
     "height": 313
    },
    "id": "b5ff3431",
    "outputId": "74563197-d655-45a3-969f-051a4b82e8ce"
   },
   "outputs": [
    {
     "data": {
      "image/png": "[encoded data removed]",
      "text/plain": [
       "<Figure size 432x288 with 1 Axes>"
      ]
     },
     "metadata": {
      "needs_background": "light"
     },
     "output_type": "display_data"
    },
    {
     "name": "stdout",
     "output_type": "stream",
     "text": [
      "The correlation between year and median salary is 0.94.\n"
     ]
    }
   ],
   "source": [
    "median_salary = batting_salaries.groupby('yearID').median()['salary'].reset_index()\n",
    "plt.scatter(median_salary['yearID'],median_salary['salary'])\n",
    "plt.ylabel('median salary')\n",
    "plt.xlabel('year')\n",
    "plt.title('median salary by year')\n",
    "plt.show()\n",
    "\n",
    "print('The correlation between year and median salary is {:.2f}.'.format(median_salary['yearID'].corr(median_salary['salary'])))"
   ]
  },
  {
   "cell_type": "code",
   "execution_count": 28,
   "id": "0607446a",
   "metadata": {
    "colab": {
     "base_uri": "https://localhost:8080/",
     "height": 313
    },
    "id": "0607446a",
    "outputId": "a94c9a12-68a9-4d6f-df5c-fecac1d6f935"
   },
   "outputs": [
    {
     "data": {
      "image/png": "[encoded data removed]",
      "text/plain": [
       "<Figure size 432x288 with 1 Axes>"
      ]
     },
     "metadata": {
      "needs_background": "light"
     },
     "output_type": "display_data"
    },
    {
     "name": "stdout",
     "output_type": "stream",
     "text": [
      "The correlation between year and mean salary is 0.99.\n"
     ]
    }
   ],
   "source": [
    "mean_salary = batting_salaries.groupby('yearID').mean()['salary'].reset_index()\n",
    "plt.scatter(mean_salary['yearID'],mean_salary['salary'])\n",
    "plt.ylabel('mean salary')\n",
    "plt.xlabel('year')\n",
    "plt.title('mean salary by year')\n",
    "plt.show()\n",
    "\n",
    "print('The correlation between year and mean salary is {:.2f}.'.format(mean_salary['yearID'].corr(mean_salary['salary'])))"
   ]
  },
  {
   "cell_type": "markdown",
   "id": "4kMTN8-Ks3sd",
   "metadata": {
    "id": "4kMTN8-Ks3sd"
   },
   "source": [
    "We observed that both scatterplots depicted a positive relationship between salary (median and mean) and year. This makes sense because looking at our boxplots, there was a general increase in median across the years we are observing (1985-2015). Specifically, the correlation between median salary and year is .94 and the correlation between mean salary and year is .99, indicating a very strong positive relationship."
   ]
  },
  {
   "cell_type": "markdown",
   "id": "96MJpqmPf84f",
   "metadata": {
    "id": "96MJpqmPf84f"
   },
   "source": [
    "We also plotted the median OPS of players against individual years. "
   ]
  },
  {
   "cell_type": "code",
   "execution_count": 29,
   "id": "659cb07b",
   "metadata": {
    "colab": {
     "base_uri": "https://localhost:8080/",
     "height": 313
    },
    "id": "659cb07b",
    "outputId": "c2cb6747-5fc1-40a3-9411-b83e19d1e1dc"
   },
   "outputs": [
    {
     "data": {
      "image/png": "[encoded data removed]",
      "text/plain": [
       "<Figure size 432x288 with 1 Axes>"
      ]
     },
     "metadata": {
      "needs_background": "light"
     },
     "output_type": "display_data"
    },
    {
     "name": "stdout",
     "output_type": "stream",
     "text": [
      "The correlation between year and median OPS is 0.16.\n"
     ]
    }
   ],
   "source": [
    "median_ops = batting_salaries.groupby('yearID').median()['OPS'].reset_index()\n",
    "plt.scatter(median_ops['yearID'],median_ops['OPS'])\n",
    "plt.ylabel('median OPS')\n",
    "plt.xlabel('year')\n",
    "plt.title('median OPS by year')\n",
    "plt.show()\n",
    "\n",
    "print('The correlation between year and median OPS is {:.2f}.'.format(median_ops['yearID'].corr(median_ops['OPS'])))"
   ]
  },
  {
   "cell_type": "markdown",
   "id": "2AHIPJdogjyu",
   "metadata": {
    "id": "2AHIPJdogjyu"
   },
   "source": [
    "Finally, we did the same thing with the mean OPS. "
   ]
  },
  {
   "cell_type": "code",
   "execution_count": 30,
   "id": "3d29193c",
   "metadata": {
    "colab": {
     "base_uri": "https://localhost:8080/",
     "height": 313
    },
    "id": "3d29193c",
    "outputId": "a1244363-aee8-4740-d833-e36f25108c4b"
   },
   "outputs": [
    {
     "data": {
      "image/png": "[encoded data removed]",
      "text/plain": [
       "<Figure size 432x288 with 1 Axes>"
      ]
     },
     "metadata": {
      "needs_background": "light"
     },
     "output_type": "display_data"
    },
    {
     "name": "stdout",
     "output_type": "stream",
     "text": [
      "The correlation between year and mean OPS is 0.21.\n"
     ]
    }
   ],
   "source": [
    "mean_ops = batting_salaries.groupby('yearID').mean()['OPS'].reset_index()\n",
    "plt.scatter(mean_ops['yearID'],mean_ops['OPS'])\n",
    "plt.ylabel('mean OPS')\n",
    "plt.xlabel('year')\n",
    "plt.title('mean OPS by year')\n",
    "plt.show()\n",
    "\n",
    "print('The correlation between year and mean OPS is {:.2f}.'.format(mean_ops['yearID'].corr(mean_ops['OPS'])))"
   ]
  },
  {
   "cell_type": "markdown",
   "id": "hWq8VBz1tnRO",
   "metadata": {
    "id": "hWq8VBz1tnRO"
   },
   "source": [
    "Looking at the both OPS scatterplots, there doesn't appear to be a clear relationship between year and OPS. This makes sense because the boxplots we observed showed that the median generally stayed the same across the years we're observing (1985-2015). More specifically, the correlation between median OPS and year is 0.16 while the correlation between mean OPS and year is .21. This is a very weak positive relationship. We also note that there doesn't seem to be a linear relationship in either OPS scatterplots."
   ]
  },
  {
   "cell_type": "markdown",
   "id": "oLaRSfU_wrjM",
   "metadata": {
    "id": "oLaRSfU_wrjM"
   },
   "source": [
    "_Conclusion on scatterplots:_ The median salary v. year and mean salary v. year scatterplots showed an upward trend as time passes. The mean and median OPS by year scatterplots showed no clear trend showing little to no relationship between OPS and year."
   ]
  },
  {
   "cell_type": "markdown",
   "id": "spLOsJx1grC5",
   "metadata": {
    "id": "spLOsJx1grC5"
   },
   "source": [
    "After plotting the means and medians of player OPS and Salary, we wanted to analyze how some individual teams paid their players based on OPS because we know some teams have more funding than other teams. Thus, we created scatter plots to see the mean salaries of four teams per year. We chose mean salary over median salary because our previous correlation findings indicate that the relationship between mean salary and year is stronger (.99 > .94).\n",
    "\n",
    "We used data from post 1998, as that was when the last team currently in the MLB was added. We chose the Yankees for their consistent ranking as the most valuable baseball franchise. We chose the Marlins, Rays, and Pirates as they have all taken turns being the least valuable baseball franchise during our time period of 1998 - 2015. \n",
    "\n",
    "More specifically, we chose these teams because the Yankees have been the highest-valued team from 2000 to 2015 and the lowest-valued teams have alternated between the Tampa Bay Rays, Pittsburgh Pirates, and Miami Marlins (min. 2 years each during this span)([Source](https://www.google.com/url?q=https://law.marquette.edu/assets/sports-law/pdf/Values%2520Report%252016.pdf&sa=D&source=docs&ust=1634580732849000&usg=AOvVaw18Y8kJinut3DJkSW7FDh6k))."
   ]
  },
  {
   "cell_type": "code",
   "execution_count": 31,
   "id": "exqH-15nfEX6",
   "metadata": {
    "colab": {
     "base_uri": "https://localhost:8080/",
     "height": 1000
    },
    "id": "exqH-15nfEX6",
    "outputId": "ddca8401-f295-44b7-d0b7-33a95ece68ad"
   },
   "outputs": [
    {
     "data": {
      "image/png": "[encoded data removed]",
      "text/plain": [
       "<Figure size 432x288 with 1 Axes>"
      ]
     },
     "metadata": {
      "needs_background": "light"
     },
     "output_type": "display_data"
    },
    {
     "name": "stdout",
     "output_type": "stream",
     "text": [
      "The correlation between year and the Yankees' mean salary is 0.93.\n"
     ]
    },
    {
     "data": {
      "image/png": "[encoded data removed]",
      "text/plain": [
       "<Figure size 432x288 with 1 Axes>"
      ]
     },
     "metadata": {
      "needs_background": "light"
     },
     "output_type": "display_data"
    },
    {
     "name": "stdout",
     "output_type": "stream",
     "text": [
      "The correlation between year and the Marlins' mean salary is 0.54.\n"
     ]
    },
    {
     "data": {
      "image/png": "[encoded data removed]",
      "text/plain": [
       "<Figure size 432x288 with 1 Axes>"
      ]
     },
     "metadata": {
      "needs_background": "light"
     },
     "output_type": "display_data"
    },
    {
     "name": "stdout",
     "output_type": "stream",
     "text": [
      "The correlation between year and the Rays' mean salary is 0.70.\n"
     ]
    },
    {
     "data": {
      "image/png": "[encoded data removed]",
      "text/plain": [
       "<Figure size 432x288 with 1 Axes>"
      ]
     },
     "metadata": {
      "needs_background": "light"
     },
     "output_type": "display_data"
    },
    {
     "name": "stdout",
     "output_type": "stream",
     "text": [
      "The correlation between year and the Pirates' mean salary is 0.80.\n"
     ]
    }
   ],
   "source": [
    "# Yankees\n",
    "yankeeSalary = batting_salaries.loc[:,['salary','teamID','yearID']]\n",
    "yankeeSalary = yankeeSalary[yankeeSalary['teamID'] == 'NYA']\n",
    "meanYankeeSalary = yankeeSalary.groupby('yearID').mean().reset_index()\n",
    "\n",
    "plt.scatter(mean_salary['yearID'].unique(), meanYankeeSalary['salary'])\n",
    "plt.ylabel('salary (in tens of millions of dollars)')\n",
    "plt.xlabel('year')\n",
    "plt.title('Yankees Team Salary by Year')\n",
    "plt.xticks(rotation=45)\n",
    "plt.show()\n",
    "\n",
    "print('The correlation between year and the Yankees\\' mean salary is {:.2f}.'.format(meanYankeeSalary['yearID'].corr(meanYankeeSalary['salary'])))\n",
    "\n",
    "#Marlins\n",
    "marlinsSalary = batting_salaries.loc[:,['salary','teamID','yearID']]\n",
    "marlinsSalary = marlinsSalary[marlinsSalary['teamID'] == 'MIA']\n",
    "meanMarlinsSalary = marlinsSalary.groupby('yearID').mean().reset_index()\n",
    "\n",
    "plt.scatter(marlinsSalary['yearID'].unique(), meanMarlinsSalary['salary'])\n",
    "plt.ylabel('salary (in millions of dollars)')\n",
    "plt.xlabel('year')\n",
    "plt.title('Marlins Team Salary by Year')\n",
    "plt.xticks(rotation=45)\n",
    "plt.show()\n",
    "\n",
    "print('The correlation between year and the Marlins\\' mean salary is {:.2f}.'.format(meanMarlinsSalary['yearID'].corr(meanMarlinsSalary['salary'])))\n",
    "\n",
    "#Rays\n",
    "raysSalary = batting_salaries.loc[:,['salary','teamID','yearID']]\n",
    "raysSalary = raysSalary[raysSalary['teamID'] == 'TBA']\n",
    "meanRaysSalary = raysSalary.groupby('yearID').mean().reset_index()\n",
    "\n",
    "plt.scatter(raysSalary['yearID'].unique(), meanRaysSalary['salary'])\n",
    "plt.ylabel('salary (in millions of dollars)')\n",
    "plt.xlabel('year')\n",
    "plt.title('Rays Team Salary by Year')\n",
    "plt.xticks(rotation=45)\n",
    "plt.locator_params(axis='x',nbins=10) # to prevent decimals on x-axis ticks\n",
    "plt.show()\n",
    "\n",
    "print('The correlation between year and the Rays\\' mean salary is {:.2f}.'.format(meanRaysSalary['yearID'].corr(meanRaysSalary['salary'])))\n",
    "\n",
    "#Pirates\n",
    "piratesSalary = batting_salaries.loc[:,['salary','teamID','yearID']]\n",
    "piratesSalary = piratesSalary[piratesSalary['teamID'] == 'PIT']\n",
    "meanPiratesSalary = piratesSalary.groupby('yearID').mean().reset_index()\n",
    "\n",
    "plt.scatter(piratesSalary['yearID'].unique(), meanPiratesSalary['salary'])\n",
    "plt.ylabel('salary (in millions of dollars)')\n",
    "plt.xlabel('year')\n",
    "plt.title('Pirates Team Salary by Year')\n",
    "plt.xticks(rotation=45)\n",
    "plt.show()\n",
    "\n",
    "print('The correlation between year and the Pirates\\' mean salary is {:.2f}.'.format(meanPiratesSalary['yearID'].corr(meanPiratesSalary['salary'])))"
   ]
  },
  {
   "cell_type": "markdown",
   "id": "jYsS8fzvxlkQ",
   "metadata": {
    "id": "jYsS8fzvxlkQ"
   },
   "source": [
    "_Conclusion on team scatterplots:_ The mean team salary of the Yankees and Pirates show a relatively strong positive trend against year. The mean team salaries of the Rays and Marlins also show a positive trend against year but the correlation is less strong. Specifically, the correlation between the Yankees' mean salary and year is .93, the correlation between the Pirates' mean salary and year is .80, the correlation between the Rays' mean salary and year is .70, the correlation between the Marlins' mean salary and year is .54. These trends make sense because as we've seen in general, the mean salary across all of the MLB has increased as years increased. In addition, we noted that the Yankees y-axis is in the tens of millions of dollars, while the other teams y-axis is in the millions of dollars. We observed that the Yankees' correlation was the strongest and they are one of the most well-funded teams in the MLB."
   ]
  },
  {
   "cell_type": "markdown",
   "id": "iKAM1dOz2I49",
   "metadata": {
    "id": "iKAM1dOz2I49"
   },
   "source": [
    "From visualizations like boxplots and scatterplots, we observed some discernible trends in salaries.\n",
    "\n",
    "To look at the relationship between salary and batting statistics, we created a linear regression model so that we could identify which batting statistics are significantly related to salary. We used alpha = 0.05 as our threshold to determine which statistics are significant.\n",
    "\n",
    "We started off by adding new columns in our dataset that calculates the rate of HRs, RBIs, SOs, Hs, BBs, SFs per at bat for each player because players do not have the same number of ABs per season. We also added a new column R Rate which represents the runs per game a player had that regular season.\n",
    "\n",
    "We specifically chose to add the rate of these batting statistics over other batting statistics because we predict that stats such as Hs (hits) and RBIs (runs batted in) will be significant (p value <= .05), while stats such as BBs (balls) and SFs (sacrifice flys) will not be significant (p value > .05)."
   ]
  },
  {
   "cell_type": "code",
   "execution_count": 32,
   "id": "I5EzQcbja14Y",
   "metadata": {
    "id": "I5EzQcbja14Y"
   },
   "outputs": [],
   "source": [
    "batting_salaries['RBI Rate'] = batting_salaries['RBI']/batting_salaries['AB'] # number of RBIs per AB\n",
    "batting_salaries['HR Rate'] = batting_salaries['HR']/batting_salaries['AB'] # number of homeruns per at bat\n",
    "batting_salaries['SO Rate'] = batting_salaries['SO']/batting_salaries['AB']\n",
    "batting_salaries['H Rate'] = batting_salaries['H']/batting_salaries['AB']\n",
    "batting_salaries['R Rate'] = batting_salaries['R']/batting_salaries['G']\n",
    "batting_salaries['BB Rate'] = batting_salaries['BB']/batting_salaries['AB']\n",
    "batting_salaries['SF Rate'] = batting_salaries['SF']/batting_salaries['AB']"
   ]
  },
  {
   "cell_type": "code",
   "execution_count": 28,
   "id": "3wcZcQsieslt",
   "metadata": {
    "colab": {
     "base_uri": "https://localhost:8080/",
     "height": 672
    },
    "id": "3wcZcQsieslt",
    "outputId": "0109c44d-f9ef-4731-d438-ee13f83826ce"
   },
   "outputs": [
    {
     "name": "stderr",
     "output_type": "stream",
     "text": [
      "/usr/local/lib/python3.7/dist-packages/statsmodels/tools/_testing.py:19: FutureWarning: pandas.util.testing is deprecated. Use the functions in the public API at pandas.testing instead.\n",
      "  import pandas.util.testing as tm\n"
     ]
    },
    {
     "data": {
      "text/html": [
       "<table class=\"simpletable\">\n",
       "<caption>OLS Regression Results</caption>\n",
       "<tr>\n",
       "  <th>Dep. Variable:</th>         <td>salary</td>      <th>  R-squared:         </th>  <td>   0.147</td>  \n",
       "</tr>\n",
       "<tr>\n",
       "  <th>Model:</th>                   <td>OLS</td>       <th>  Adj. R-squared:    </th>  <td>   0.147</td>  \n",
       "</tr>\n",
       "<tr>\n",
       "  <th>Method:</th>             <td>Least Squares</td>  <th>  F-statistic:       </th>  <td>   177.7</td>  \n",
       "</tr>\n",
       "<tr>\n",
       "  <th>Date:</th>             <td>Wed, 20 Oct 2021</td> <th>  Prob (F-statistic):</th>  <td>2.96e-312</td> \n",
       "</tr>\n",
       "<tr>\n",
       "  <th>Time:</th>                 <td>21:30:25</td>     <th>  Log-Likelihood:    </th> <td>-1.5290e+05</td>\n",
       "</tr>\n",
       "<tr>\n",
       "  <th>No. Observations:</th>      <td>  9260</td>      <th>  AIC:               </th>  <td>3.058e+05</td> \n",
       "</tr>\n",
       "<tr>\n",
       "  <th>Df Residuals:</th>          <td>  9250</td>      <th>  BIC:               </th>  <td>3.059e+05</td> \n",
       "</tr>\n",
       "<tr>\n",
       "  <th>Df Model:</th>              <td>     9</td>      <th>                     </th>      <td> </td>     \n",
       "</tr>\n",
       "<tr>\n",
       "  <th>Covariance Type:</th>      <td>nonrobust</td>    <th>                     </th>      <td> </td>     \n",
       "</tr>\n",
       "</table>\n",
       "<table class=\"simpletable\">\n",
       "<tr>\n",
       "      <td></td>        <th>coef</th>     <th>std err</th>      <th>t</th>      <th>P>|t|</th>  <th>[0.025</th>    <th>0.975]</th>  \n",
       "</tr>\n",
       "<tr>\n",
       "  <th>const</th>    <td>-4.452e+05</td> <td> 4.33e+05</td> <td>   -1.028</td> <td> 0.304</td> <td>-1.29e+06</td> <td> 4.04e+05</td>\n",
       "</tr>\n",
       "<tr>\n",
       "  <th>G</th>        <td> 6222.5682</td> <td> 1442.380</td> <td>    4.314</td> <td> 0.000</td> <td> 3395.185</td> <td> 9049.951</td>\n",
       "</tr>\n",
       "<tr>\n",
       "  <th>OPS</th>      <td>-1.183e+07</td> <td> 2.24e+06</td> <td>   -5.283</td> <td> 0.000</td> <td>-1.62e+07</td> <td>-7.44e+06</td>\n",
       "</tr>\n",
       "<tr>\n",
       "  <th>RBI Rate</th> <td>  8.23e+06</td> <td> 1.84e+06</td> <td>    4.464</td> <td> 0.000</td> <td> 4.62e+06</td> <td> 1.18e+07</td>\n",
       "</tr>\n",
       "<tr>\n",
       "  <th>HR Rate</th>  <td> 5.448e+07</td> <td> 7.14e+06</td> <td>    7.628</td> <td> 0.000</td> <td> 4.05e+07</td> <td> 6.85e+07</td>\n",
       "</tr>\n",
       "<tr>\n",
       "  <th>SO Rate</th>  <td>-1.885e+06</td> <td> 7.48e+05</td> <td>   -2.520</td> <td> 0.012</td> <td>-3.35e+06</td> <td>-4.18e+05</td>\n",
       "</tr>\n",
       "<tr>\n",
       "  <th>H Rate</th>   <td> 1.894e+07</td> <td> 4.95e+06</td> <td>    3.829</td> <td> 0.000</td> <td> 9.25e+06</td> <td> 2.86e+07</td>\n",
       "</tr>\n",
       "<tr>\n",
       "  <th>R Rate</th>   <td> 6.152e+06</td> <td> 3.74e+05</td> <td>   16.437</td> <td> 0.000</td> <td> 5.42e+06</td> <td> 6.89e+06</td>\n",
       "</tr>\n",
       "<tr>\n",
       "  <th>BB Rate</th>  <td> 1.148e+07</td> <td> 1.54e+06</td> <td>    7.464</td> <td> 0.000</td> <td> 8.47e+06</td> <td> 1.45e+07</td>\n",
       "</tr>\n",
       "<tr>\n",
       "  <th>SF Rate</th>  <td> 2.134e+06</td> <td> 7.35e+06</td> <td>    0.290</td> <td> 0.772</td> <td>-1.23e+07</td> <td> 1.66e+07</td>\n",
       "</tr>\n",
       "</table>\n",
       "<table class=\"simpletable\">\n",
       "<tr>\n",
       "  <th>Omnibus:</th>       <td>4887.853</td> <th>  Durbin-Watson:     </th> <td>   1.670</td> \n",
       "</tr>\n",
       "<tr>\n",
       "  <th>Prob(Omnibus):</th>  <td> 0.000</td>  <th>  Jarque-Bera (JB):  </th> <td>36539.509</td>\n",
       "</tr>\n",
       "<tr>\n",
       "  <th>Skew:</th>           <td> 2.460</td>  <th>  Prob(JB):          </th> <td>    0.00</td> \n",
       "</tr>\n",
       "<tr>\n",
       "  <th>Kurtosis:</th>       <td>11.396</td>  <th>  Cond. No.          </th> <td>2.79e+04</td> \n",
       "</tr>\n",
       "</table><br/><br/>Warnings:<br/>[1] Standard Errors assume that the covariance matrix of the errors is correctly specified.<br/>[2] The condition number is large, 2.79e+04. This might indicate that there are<br/>strong multicollinearity or other numerical problems."
      ],
      "text/plain": [
       "<class 'statsmodels.iolib.summary.Summary'>\n",
       "\"\"\"\n",
       "                            OLS Regression Results                            \n",
       "==============================================================================\n",
       "Dep. Variable:                 salary   R-squared:                       0.147\n",
       "Model:                            OLS   Adj. R-squared:                  0.147\n",
       "Method:                 Least Squares   F-statistic:                     177.7\n",
       "Date:                Wed, 20 Oct 2021   Prob (F-statistic):          2.96e-312\n",
       "Time:                        21:30:25   Log-Likelihood:            -1.5290e+05\n",
       "No. Observations:                9260   AIC:                         3.058e+05\n",
       "Df Residuals:                    9250   BIC:                         3.059e+05\n",
       "Df Model:                           9                                         \n",
       "Covariance Type:            nonrobust                                         \n",
       "==============================================================================\n",
       "                 coef    std err          t      P>|t|      [0.025      0.975]\n",
       "------------------------------------------------------------------------------\n",
       "const      -4.452e+05   4.33e+05     -1.028      0.304   -1.29e+06    4.04e+05\n",
       "G           6222.5682   1442.380      4.314      0.000    3395.185    9049.951\n",
       "OPS        -1.183e+07   2.24e+06     -5.283      0.000   -1.62e+07   -7.44e+06\n",
       "RBI Rate     8.23e+06   1.84e+06      4.464      0.000    4.62e+06    1.18e+07\n",
       "HR Rate     5.448e+07   7.14e+06      7.628      0.000    4.05e+07    6.85e+07\n",
       "SO Rate    -1.885e+06   7.48e+05     -2.520      0.012   -3.35e+06   -4.18e+05\n",
       "H Rate      1.894e+07   4.95e+06      3.829      0.000    9.25e+06    2.86e+07\n",
       "R Rate      6.152e+06   3.74e+05     16.437      0.000    5.42e+06    6.89e+06\n",
       "BB Rate     1.148e+07   1.54e+06      7.464      0.000    8.47e+06    1.45e+07\n",
       "SF Rate     2.134e+06   7.35e+06      0.290      0.772   -1.23e+07    1.66e+07\n",
       "==============================================================================\n",
       "Omnibus:                     4887.853   Durbin-Watson:                   1.670\n",
       "Prob(Omnibus):                  0.000   Jarque-Bera (JB):            36539.509\n",
       "Skew:                           2.460   Prob(JB):                         0.00\n",
       "Kurtosis:                      11.396   Cond. No.                     2.79e+04\n",
       "==============================================================================\n",
       "\n",
       "Warnings:\n",
       "[1] Standard Errors assume that the covariance matrix of the errors is correctly specified.\n",
       "[2] The condition number is large, 2.79e+04. This might indicate that there are\n",
       "strong multicollinearity or other numerical problems.\n",
       "\"\"\""
      ]
     },
     "execution_count": 28,
     "metadata": {},
     "output_type": "execute_result"
    }
   ],
   "source": [
    "# linear regression tool\n",
    "import statsmodels.api as sm\n",
    "\n",
    "y = batting_salaries['salary']\n",
    "x = batting_salaries.drop(['salary','playerID','yearID','teamID','2B','3B','BB','SO','HBP','SF','HR','RBI','SO','H','R','AB'], axis=1)\n",
    "x = sm.add_constant(x)\n",
    "lin_reg_model = sm.OLS(y,x).fit()\n",
    "lin_reg_model.summary()"
   ]
  },
  {
   "cell_type": "markdown",
   "id": "Fv5Z67ZIGJkh",
   "metadata": {
    "id": "Fv5Z67ZIGJkh"
   },
   "source": [
    "_Conclusion on linear regression:_\n",
    "\n",
    "Observing our results of the linear regression, we can observe the 'P>|t|' column to look at our p-values. The significant statistics are G (games), OPS (on-base plus slugging), RBI (runs batted in) Rate, HR (homerun) Rate, H (hits) Rate, R (runs) Rate, and BB (walks) Rate at the .05 level. The SO Rate (strikeout) and SF Rate (sacrifice fly) were not significant at the .05 level. \n",
    "\n",
    "As expected, the rate of sacrifice flies a player produces during a season is not significantly related to their salary. This intuitively makes sense because in general, a player isn't well-known if they hit a lot of sacrifice flys. In addition, looking at the OPS equation we know that sacrifice flys do not increase a player's OPS. Surprisingly, BB Rate (walks) is significantly related. However, we realized this makes sense because a player is on-base after they get walked, thus contributing to an increase in their OPS.\n",
    "\n",
    "SO Rate (strikeouts) had a p-value of .012 which was not significant according to our significance level. This makes sense because some players may have a high strikeout rate compared to other players but still manage to produce the same or better amount of hitting production.\n",
    "\n",
    "G (games per season) is potentially signficantly related to salary because players who play more games in the season are the main players and starters of the team.\n",
    "\n",
    "Since we found that RBI Rate, HR Rate, H Rate, and BB Rate are all significantly related to salary, it follows that OPS is also signficant because RBIs, HRs, Hs, and BBs all play a part in increasing OPS.\n",
    "\n",
    "R Rate (runs) is significant potentially because a player must be on-base at some point for them to have scored a run for their team, and we found that OPS is significant."
   ]
  },
  {
   "cell_type": "markdown",
   "id": "YtqSeRInhFMJ",
   "metadata": {
    "id": "YtqSeRInhFMJ"
   },
   "source": [
    "## **Questions for reviewers**\n",
    "\n",
    "* What are some other ways we could try and visualize the relationship between baseball player batting statistics and their salaries?\n",
    "\n",
    "* What are some potential conclusion mistakes we could avoid from our exploratory data analysis?\n",
    "\n",
    "* What are some common mistakes when analyzing sports data?\n"
   ]
  }
 ],
 "metadata": {
  "colab": {
   "collapsed_sections": [],
   "name": "INFO 2950 Project Phase 2.ipynb",
   "provenance": []
  },
  "kernelspec": {
   "display_name": "Python 3",
   "language": "python",
   "name": "python3"
  },
  "language_info": {
   "codemirror_mode": {
    "name": "ipython",
    "version": 3
   },
   "file_extension": ".py",
   "mimetype": "text/x-python",
   "name": "python",
   "nbconvert_exporter": "python",
   "pygments_lexer": "ipython3",
   "version": "3.8.8"
  }
 },
 "nbformat": 4,
 "nbformat_minor": 5
}
